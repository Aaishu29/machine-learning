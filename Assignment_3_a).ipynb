{
 "cells": [
  {
   "cell_type": "markdown",
   "metadata": {
    "colab_type": "text",
    "id": "SKDskdynKrl3"
   },
   "source": [
    "# Assignment 3\n",
    "### Question 1 - non CNN models\n",
    "\n",
    "This section of the assignment focuses on implementing non - CNN methods on the dataset to classify it into its defined categories.\n",
    "\n",
    "The dataset is fashion MNIST with 786 columns and 60,000 observations. Due to the large size of data and incompatible system configuration, the implementation was moved to google colabs. This dataset is the representation of five different kinds of fashion items. Each row represents one fashion item and every column of the row stores the pixel value used to generate the image of the fashion item. Based on these values, we have to classify the data into 5 distinct categories.\n",
    " \n",
    "The different methods used for implementation and the reasons why, have been discussed along with the code snippets, combining all the questions asked in the assignment.\n",
    "\n",
    "Also, some sections had to interrupt when executing the second time due to long hours they were taking for implementation."
   ]
  },
  {
   "cell_type": "code",
   "execution_count": 1,
   "metadata": {
    "colab": {
     "base_uri": "https://localhost:8080/",
     "height": 255
    },
    "colab_type": "code",
    "id": "YjxWZyPQ_E45",
    "outputId": "b1e3b5d8-0a6c-40c0-bfd1-cf8dc1d6ab09"
   },
   "outputs": [
    {
     "name": "stdout",
     "output_type": "stream",
     "text": [
      "          Id  Label  1  2  3  4  5  6  7  8  ...  775  776  777  778  779  \\\n",
      "0      10000      4  0  0  0  0  0  0  0  0  ...    0    0    0    0    0   \n",
      "1      10001      0  0  0  0  0  0  0  0  0  ...    0    0    0    0    0   \n",
      "2      10002      0  0  0  0  0  0  0  0  0  ...   31    9    0    0    0   \n",
      "3      10003      4  0  0  0  0  0  0  0  0  ...    0    0    0    0    0   \n",
      "4      10004      1  0  0  0  0  0  0  0  0  ...    0    0    0    0    0   \n",
      "...      ...    ... .. .. .. .. .. .. .. ..  ...  ...  ...  ...  ...  ...   \n",
      "59995  69995      3  0  0  0  0  0  0  0  0  ...    0    0    0    0    0   \n",
      "59996  69996      0  0  0  0  0  0  0  0  0  ...    0    0    0    0    0   \n",
      "59997  69997      4  0  0  0  0  0  0  0  0  ...   27    0    0    0    0   \n",
      "59998  69998      0  0  0  0  0  0  0  0  0  ...    0    0    0    0    0   \n",
      "59999  69999      2  0  0  0  0  0  0  0  0  ...    0    0    0    0    0   \n",
      "\n",
      "       780  781  782  783  784  \n",
      "0        0    0    0    0    0  \n",
      "1        0    0    0    0    0  \n",
      "2        0    0    0    0    0  \n",
      "3        0    0    0    0    0  \n",
      "4        0    0    0    0    0  \n",
      "...    ...  ...  ...  ...  ...  \n",
      "59995    0    0    0    0    0  \n",
      "59996    0    0    0    0    0  \n",
      "59997    0    0    0    0    0  \n",
      "59998    0    0    0    0    0  \n",
      "59999    0    0    0    0    0  \n",
      "\n",
      "[60000 rows x 786 columns]\n"
     ]
    }
   ],
   "source": [
    "import matplotlib as plt\n",
    "import pandas as pd\n",
    "import numpy as np\n",
    "\n",
    "dataset = pd.read_csv(\"train.csv\",header=0)\n",
    "test_data = pd.read_csv(\"testX.csv\", header=0)\n",
    "print(dataset)"
   ]
  },
  {
   "cell_type": "markdown",
   "metadata": {
    "colab_type": "text",
    "id": "Ocbnfo2E2c8i"
   },
   "source": [
    "The implementation started with loading the train and test dataset. The test dataset had 10,000 observations on which the accuracy of the model was calculated. The train dataset was then split into train and validation set(10% of the total data), to check the validity of the model before running it on the test data. The data was transformed into a 28X28 matrix to generate the images for better visual understanding using imshow()(results in part b of the assignment)"
   ]
  },
  {
   "cell_type": "code",
   "execution_count": 0,
   "metadata": {
    "colab": {},
    "colab_type": "code",
    "id": "Pt7vt57hOmvz"
   },
   "outputs": [],
   "source": [
    "X = dataset.iloc[:,2:].values #all columns except the last one\n",
    "y = dataset.iloc[:,1].values #only the last column\n",
    "X_test = test_data.iloc[:,1:]"
   ]
  },
  {
   "cell_type": "code",
   "execution_count": 0,
   "metadata": {
    "colab": {},
    "colab_type": "code",
    "id": "ZUN90MByNMbQ"
   },
   "outputs": [],
   "source": [
    "from sklearn.model_selection import train_test_split\n",
    "X_train, X_val, y_train, y_val = train_test_split(X, y, random_state=42, test_size=0.1)"
   ]
  },
  {
   "cell_type": "markdown",
   "metadata": {
    "colab_type": "text",
    "id": "BgekZ9M15IqW"
   },
   "source": [
    "Once the train, validation and test sets were made, it was then preprocessed. For preprocessing, a subset of minmax preprocessing and zscore normalization was chosen. The major difference between the two is that the zscore centers the data by subtracting the mean and dividing by standard deviation(sets the overall mean as zero and standard deviation as one) whereas, minmax scaler rescales the data by setting minimum to 0 and maximum to 1(by default) and all the other values scale accordingly. The end goal is to maximize the variance such that dimensionality reduction could work better. For this, if we go by values itself, we would be able to distinguish by the fact that minmax ranges the data between 0 and 1 whereas standardscaler has ~68% data ranging between -1 and 1 and ~95% between-1.96 and 1.96, which shows that data is more widespread in standardscaler than in minmax.\n",
    "\n",
    "The values for each column range between 0 and 255. Since the distinguishing factor between the classes would be the pixel intensities at different points, therefore, scaling them using Standard Scaler would be better as it would evenly distribute the intensities making darker pixels darker and lighter more lighter. Also, minmax is more sensitive to noisy data, hence if there is noise in data then it would impact the over scaling of the set.\n"
   ]
  },
  {
   "cell_type": "code",
   "execution_count": 0,
   "metadata": {
    "colab": {},
    "colab_type": "code",
    "id": "fLFHrGd0zjUb"
   },
   "outputs": [],
   "source": [
    "from sklearn.preprocessing import StandardScaler\n",
    "\n",
    "sc = StandardScaler()\n",
    "X_train = sc.fit_transform(X_train)\n",
    "X_val = sc.transform(X_val)\n",
    "X_test = sc.transform(X_test)"
   ]
  },
  {
   "cell_type": "code",
   "execution_count": 0,
   "metadata": {
    "colab": {},
    "colab_type": "code",
    "id": "veZdb3GweX1w"
   },
   "outputs": [],
   "source": [
    "from sklearn import preprocessing\n",
    "mm_scaler = preprocessing.MinMaxScaler()\n",
    "X_train = mm_scaler.fit_transform(X_train)\n",
    "X_val = mm_scaler.transform(X_val)\n",
    "X_test = mm_scaler.transform(X_test)"
   ]
  },
  {
   "cell_type": "markdown",
   "metadata": {
    "colab_type": "text",
    "id": "GA1gSLTL5Pok"
   },
   "source": [
    "Once the data is preprocessed, the next step is to model the data. But due to the large size of the columns, the computational time and complexity increases to a great extent. To resolve this issue, the dimensionality of the data is reduced making sure that the information is not lost. To reduce the dimensionality, the following methods were taken into consideration(taking forward the methods described in assignment 2): \n",
    "1. PCA\n",
    "2. LDA\n",
    "3. Isomap\n",
    "4. LocallyLinearEmbedding\n",
    "5. SpectralEmbedding\n",
    "6. t-SNE. \n",
    "\n",
    "Out of all the methods for dimensionality reduction, t-SNE performed the best when the data had to be classified. But when talking about time complexity the best performance was given by PCA(least time), LDA and the other methods. When we bring time complexity as a factor for evaluation, then t-SNE should be rejected as it took ~8 hours to compute the model whereas PCA took ~321 seconds to generate the results(when n_componenets were not specified). Hence PCA was a better option than any other method. \n",
    "\n",
    "Also, when the graphs of the results were compared, t-SNE did not provide stability in classification. Once it was pretty much seperable whereas on second run PCA seemed to classify better.\n",
    "\n",
    "Also, only t-SNE was tested for that long. The other methods were interrupted inbetween because there performance had been tested during assignment 2 and on evaluation only t-SNE had seemed to outperform all of them in terms of classification as it preserves the local distances between the neighbours. When the dataset is smaller then, t-SNE could be considered but for cases such as this, time complexity plays an important role and cannot be ignored. Therfore, PCA seemed to be the best option available. "
   ]
  },
  {
   "cell_type": "code",
   "execution_count": 7,
   "metadata": {
    "colab": {
     "base_uri": "https://localhost:8080/",
     "height": 51
    },
    "colab_type": "code",
    "id": "ybLlc95jDspb",
    "outputId": "c26cdd36-d19a-4ff4-88c9-1c165c1557cc"
   },
   "outputs": [
    {
     "name": "stdout",
     "output_type": "stream",
     "text": [
      "CPU times: user 3.85 s, sys: 316 ms, total: 4.17 s\n",
      "Wall time: 2.26 s\n"
     ]
    }
   ],
   "source": [
    "%%time\n",
    "from sklearn.decomposition import PCA\n",
    "transformer = PCA(n_components=2,random_state=42) \n",
    "X_transformed_PCA = transformer.fit_transform(X_train)"
   ]
  },
  {
   "cell_type": "code",
   "execution_count": 8,
   "metadata": {
    "colab": {
     "base_uri": "https://localhost:8080/",
     "height": 51
    },
    "colab_type": "code",
    "id": "O5AF8gdtEYnN",
    "outputId": "c63abc27-757d-48a6-d565-00056fde20f9"
   },
   "outputs": [
    {
     "name": "stdout",
     "output_type": "stream",
     "text": [
      "CPU times: user 23.8 s, sys: 1.12 s, total: 25 s\n",
      "Wall time: 15 s\n"
     ]
    }
   ],
   "source": [
    "%%time\n",
    "from sklearn.discriminant_analysis import LinearDiscriminantAnalysis as LDA\n",
    "transformer = LDA(n_components=2) \n",
    "X_transformed_PCA = transformer.fit_transform(X_train,y_train)"
   ]
  },
  {
   "cell_type": "code",
   "execution_count": 0,
   "metadata": {
    "colab": {},
    "colab_type": "code",
    "id": "Ng07cySCFKuy"
   },
   "outputs": [],
   "source": [
    "%%time \n",
    "from sklearn.manifold import Isomap \n",
    "embedding = Isomap(n_components=2) \n",
    "X_transformed_Isomap = embedding.fit_transform(X_train)"
   ]
  },
  {
   "cell_type": "code",
   "execution_count": 0,
   "metadata": {
    "colab": {},
    "colab_type": "code",
    "id": "6Xr06Wg5FSRJ"
   },
   "outputs": [],
   "source": [
    "%%time \n",
    "from sklearn.manifold import LocallyLinearEmbedding \n",
    "embedding = LocallyLinearEmbedding(n_components=2,random_state=42) \n",
    "X_transformed_LocallyLinearEmbedding = embedding.fit_transform(X_train)"
   ]
  },
  {
   "cell_type": "code",
   "execution_count": 0,
   "metadata": {
    "colab": {},
    "colab_type": "code",
    "id": "D1o6w4joFaFW"
   },
   "outputs": [],
   "source": [
    "%%time \n",
    "from sklearn.manifold import SpectralEmbedding \n",
    "embedding = SpectralEmbedding(n_components=2,random_state=42) \n",
    "X_transformed_SpectralEmbedding = embedding.fit_transform(X_train)"
   ]
  },
  {
   "cell_type": "code",
   "execution_count": 0,
   "metadata": {
    "colab": {},
    "colab_type": "code",
    "id": "Qk_979AfFiuE"
   },
   "outputs": [],
   "source": [
    "%%time \n",
    "from sklearn.manifold import TSNE \n",
    "embedding = TSNE(n_components=2,random_state=42) \n",
    "X_transformed_TSNE = embedding.fit_transform(X_train)"
   ]
  },
  {
   "cell_type": "markdown",
   "metadata": {
    "colab_type": "text",
    "id": "45__ryJMF0fq"
   },
   "source": [
    "Finally PCA was chosen over other methods, as can be observed from the runtimes of the methods. Most of them had to be interrupted because of large dataset.\n",
    "\n"
   ]
  },
  {
   "cell_type": "code",
   "execution_count": 0,
   "metadata": {
    "colab": {},
    "colab_type": "code",
    "id": "olbzaM9xOqPK"
   },
   "outputs": [],
   "source": [
    "#applying PCA on the dataset\n",
    "import numpy as np\n",
    "from sklearn.decomposition import PCA\n",
    "pca = PCA(random_state=42,n_components=10)\n",
    "X_train = pca.fit_transform(X_train)\n",
    "X_val = pca.transform(X_val)\n",
    "X_test = pca.transform(X_test)\n"
   ]
  },
  {
   "cell_type": "markdown",
   "metadata": {
    "colab_type": "text",
    "id": "pkXgFUVLGBZx"
   },
   "source": [
    "Once the data is processed and its dimensionality is reduced, then various methods of classification are tested to shortlist the ones that perform well on the dataset. To get quicker results, the number of components for PCA were set to 10 as it covers more than 70% of the variance explained by the model. Using this data, the number of columns are reduced to 10 thereby making computation simpler and quicker."
   ]
  },
  {
   "cell_type": "markdown",
   "metadata": {
    "colab_type": "text",
    "id": "6bOVt2nRPjQm"
   },
   "source": [
    "Logistic regression works on probability function checking whether the data belongs to a particular class or not. This turn out to not be a good method as it stopped beyond certain number of iterations."
   ]
  },
  {
   "cell_type": "code",
   "execution_count": 6,
   "metadata": {
    "colab": {
     "base_uri": "https://localhost:8080/",
     "height": 187
    },
    "colab_type": "code",
    "id": "IKuJvuvDOsas",
    "outputId": "9c8b203b-d635-49fc-c53f-6c65c0ebcf9b"
   },
   "outputs": [
    {
     "name": "stdout",
     "output_type": "stream",
     "text": [
      "Accuracy of Logistic regression classifier on training set: 0.64\n",
      "Accuracy of Logistic regression classifier on test set: 0.63\n"
     ]
    },
    {
     "name": "stderr",
     "output_type": "stream",
     "text": [
      "/usr/local/lib/python3.6/dist-packages/sklearn/linear_model/_logistic.py:940: ConvergenceWarning: lbfgs failed to converge (status=1):\n",
      "STOP: TOTAL NO. of ITERATIONS REACHED LIMIT.\n",
      "\n",
      "Increase the number of iterations (max_iter) or scale the data as shown in:\n",
      "    https://scikit-learn.org/stable/modules/preprocessing.html\n",
      "Please also refer to the documentation for alternative solver options:\n",
      "    https://scikit-learn.org/stable/modules/linear_model.html#logistic-regression\n",
      "  extra_warning_msg=_LOGISTIC_SOLVER_CONVERGENCE_MSG)\n"
     ]
    }
   ],
   "source": [
    "from sklearn.linear_model import LogisticRegression\n",
    "logreg = LogisticRegression()\n",
    "logreg.fit(X_train, y_train)\n",
    "print('Accuracy of Logistic regression classifier on training set: {:.2f}'\n",
    "     .format(logreg.score(X_train, y_train)))\n",
    "print('Accuracy of Logistic regression classifier on test set: {:.2f}'\n",
    "     .format(logreg.score(X_val, y_val)))"
   ]
  },
  {
   "cell_type": "markdown",
   "metadata": {
    "colab_type": "text",
    "id": "66-01dklNgtA"
   },
   "source": [
    "Decision Tree classifier classifies the data into groups of data that can be categorised later. This model helps in finding patterns in data and categorizing them into leaves of different classes. The leaf branches define the properties that lead to the categorization. \n",
    "\n",
    "The decision tree model is very easy to overfit. As the depth of the tree increases, the patterns are further disintegrated into subsets which might work well for the train model but misclassify the validation/test model. More depth makes the model more prone to noise and hence the model becomes overfit. Extremely small values result in underfitting as well as it is unable to break down the model into desired number of classes.\n",
    "\n",
    "For testing phase, default values were considered. Even when the max_depth was altered the performance did not improve beyond 85% on the validation data at max_depth = 45. Beyond this, a decrease in accuracy was observed."
   ]
  },
  {
   "cell_type": "code",
   "execution_count": 7,
   "metadata": {
    "colab": {
     "base_uri": "https://localhost:8080/",
     "height": 51
    },
    "colab_type": "code",
    "id": "kP-WcAIKOzFX",
    "outputId": "4d358574-4f79-48aa-ab42-3e9e023658b2"
   },
   "outputs": [
    {
     "name": "stdout",
     "output_type": "stream",
     "text": [
      "Accuracy of Decision Tree classifier on training set: 1.00\n",
      "Accuracy of Decision Tree classifier on test set: 0.81\n"
     ]
    }
   ],
   "source": [
    "from sklearn.tree import DecisionTreeClassifier\n",
    "clf = DecisionTreeClassifier().fit(X_train, y_train)\n",
    "print('Accuracy of Decision Tree classifier on training set: {:.2f}'\n",
    "     .format(clf.score(X_train, y_train)))\n",
    "print('Accuracy of Decision Tree classifier on test set: {:.2f}'\n",
    "     .format(clf.score(X_val, y_val)))"
   ]
  },
  {
   "cell_type": "markdown",
   "metadata": {
    "colab_type": "text",
    "id": "_JNidWANLdvK"
   },
   "source": [
    "The KNN model takes into consideration k nearest neighbours for each point to classify it into one of the defined groups. The class that has its maximum data elements near the point under consideration will have the point under its domain. To avoid tie, odd numbers are preferred but that is usually the case when there are two classes. The parameters that can be tunned for better performamce are k neighbors.\n",
    "\n",
    "Greater the K smoother the boundry( removal of noise) but higher the chances of misclassification(underfitting). Lower value of K can have a lot of noise that will have higher influence on the dataset(overfitting). Both of these lead to lower accuracy on the validation/test data. Another factor is the computational complexity, which is lower for smaller value of k and higher for higher value of K. \n",
    "\n",
    "For this model, we are choosing the default values set for KNN."
   ]
  },
  {
   "cell_type": "code",
   "execution_count": 8,
   "metadata": {
    "colab": {
     "base_uri": "https://localhost:8080/",
     "height": 51
    },
    "colab_type": "code",
    "id": "20XTafvmOFF5",
    "outputId": "7645b005-f214-4cad-f1aa-5a641c4d430c"
   },
   "outputs": [
    {
     "name": "stdout",
     "output_type": "stream",
     "text": [
      "Accuracy of K-NN classifier on training set: 0.90\n",
      "Accuracy of K-NN classifier on test set: 0.85\n"
     ]
    }
   ],
   "source": [
    "from sklearn.neighbors import KNeighborsClassifier\n",
    "knn = KNeighborsClassifier()\n",
    "knn.fit(X_train, y_train)\n",
    "print('Accuracy of K-NN classifier on training set: {:.2f}'\n",
    "     .format(knn.score(X_train, y_train)))\n",
    "print('Accuracy of K-NN classifier on test set: {:.2f}'\n",
    "     .format(knn.score(X_val, y_val)))"
   ]
  },
  {
   "cell_type": "markdown",
   "metadata": {
    "colab_type": "text",
    "id": "F6lTFumPMvIK"
   },
   "source": [
    "Support Vector Machine tries to find a hyperplane that correctly classifies the data into one of the defined groups. The goal of SVM is to maximize the distance between the hyperplanes making sure that it does not misclassifiy the data.  \n",
    "\n",
    "C value is the regularization parameter that determines the distance between the hyperplanes. If the value of C is small, then the distance between the hyperplanes will be larger. This will result in underfitting of the data and it may misclassify some data. If the value of C is larger, then the distance between the hyperplanes will be smaller. This will result in overfitting of the data as it will try to accommodate as many class datapoints as it could to avoid misclassification. This will result in high training accuracy but lower test accuracy.\n",
    "\n",
    "This model was tested for default values when comparing to other models."
   ]
  },
  {
   "cell_type": "code",
   "execution_count": 9,
   "metadata": {
    "colab": {
     "base_uri": "https://localhost:8080/",
     "height": 51
    },
    "colab_type": "code",
    "id": "avb4dzp1OfZX",
    "outputId": "968ec492-4f01-4e0f-f5b5-aa5081bd0e9e"
   },
   "outputs": [
    {
     "name": "stdout",
     "output_type": "stream",
     "text": [
      "Accuracy of SVM classifier on training set: 0.85\n",
      "Accuracy of SVM classifier on test set: 0.85\n"
     ]
    }
   ],
   "source": [
    "from sklearn.svm import SVC\n",
    "svm = SVC()\n",
    "svm.fit(X_train, y_train)\n",
    "print('Accuracy of SVM classifier on training set: {:.2f}'\n",
    "     .format(svm.score(X_train, y_train)))\n",
    "print('Accuracy of SVM classifier on test set: {:.2f}'\n",
    "     .format(svm.score(X_val, y_val)))"
   ]
  },
  {
   "cell_type": "markdown",
   "metadata": {
    "colab_type": "text",
    "id": "QOd1a7_nxVUi"
   },
   "source": [
    "XGBoost is an improvised version of gradient Tree boosting and AdaGrad. It is basically a decision tree based ensemble that works on Gradient boosting framework. It has various additional functionalities when it comes to unstructured data. It improvises the time and computational power making non-CNN work better. Results show that it has outperformed Gradient boosting, Random forest and Logistic Regression. For xgboost, various parameters can be altered such as n_estimators, max_depth, learning rate etc. It is said that XGBoost performs better than any classification algorithm in terms of time complexity.\n",
    "\n",
    "It involves the process of improving the performance of the model by fiting the new tree on the old one. It updates the tree to make it more effective and accurate. This model is usually prone to overfitting if the number of trees are very larger. For smaller values, as the trees increase, the accuracy improves as well but beyond certain value it starts getting influenced by the noisy data and we observe a dip in the performance."
   ]
  },
  {
   "cell_type": "code",
   "execution_count": 12,
   "metadata": {
    "colab": {
     "base_uri": "https://localhost:8080/",
     "height": 51
    },
    "colab_type": "code",
    "id": "MadvQPUYm9dZ",
    "outputId": "e159dae6-051a-4e9f-a55c-5f07d088fecf"
   },
   "outputs": [
    {
     "name": "stdout",
     "output_type": "stream",
     "text": [
      "Accuracy of SVM classifier on training set: 0.81\n",
      "Accuracy of SVM classifier on test set: 0.80\n"
     ]
    }
   ],
   "source": [
    "#xgboost\n",
    "import xgboost as xgb\n",
    "model=xgb.XGBClassifier()\n",
    "model.fit(X_train, y_train)\n",
    "print('Accuracy of SVM classifier on training set: {:.2f}'\n",
    "     .format(model.score(X_train, y_train)))\n",
    "print('Accuracy of SVM classifier on test set: {:.2f}'\n",
    "     .format(model.score(X_val, y_val)))"
   ]
  },
  {
   "cell_type": "markdown",
   "metadata": {
    "colab_type": "text",
    "id": "Mye7SWTGQduT"
   },
   "source": [
    "From all the above methods, logistic regression was eliminated because of low accuracy. The others were hypertuned one by one for most accuaret results. \n"
   ]
  },
  {
   "cell_type": "markdown",
   "metadata": {
    "colab_type": "text",
    "id": "JxsGOW-6m_2L"
   },
   "source": [
    "Now the number of components for PCA were set to 150 so that they cover more than 90% of the variance explained by the model. The train, val and test generated were passed through the approved models to check for model accuracy."
   ]
  },
  {
   "cell_type": "code",
   "execution_count": 0,
   "metadata": {
    "colab": {},
    "colab_type": "code",
    "id": "f1j1hSxWnGiB"
   },
   "outputs": [],
   "source": [
    "#applying PCA on the dataset\n",
    "import numpy as np\n",
    "from sklearn.decomposition import PCA\n",
    "pca = PCA(random_state=42,n_components=150)\n",
    "X_train = pca.fit_transform(X_train)\n",
    "X_val = pca.transform(X_val)\n",
    "X_test = pca.transform(X_test)"
   ]
  },
  {
   "cell_type": "code",
   "execution_count": 0,
   "metadata": {
    "colab": {},
    "colab_type": "code",
    "id": "UTEMiGIuqSQM"
   },
   "outputs": [],
   "source": [
    "from sklearn.neighbors import KNeighborsClassifier\n",
    "k_list=[50,100,250,500,1000]\n",
    "for k in k_list:\n",
    "  knn = KNeighborsClassifier(n_neighbors=k)\n",
    "  knn.fit(X_train, y_train)\n",
    "  print('Accuracy of K-NN classifier on training set: {:.2f}'\n",
    "      .format(knn.score(X_train, y_train)))\n",
    "  print('Accuracy of K-NN classifier on test set: {:.2f}'\n",
    "      .format(knn.score(X_val, y_val)))"
   ]
  },
  {
   "cell_type": "markdown",
   "metadata": {
    "colab_type": "text",
    "id": "q9qoz0qbnFmU"
   },
   "source": [
    "When the values for KNN were hypertuned, the maximum accuracy that was obtained was 86.69% for test data. \n",
    "\n",
    "Lower value of k results in overfitting of the model because it is highly prone to noisy data and has less number of data elements to compare the datapoint with to correctly classify it to the right right class( misclassification of the data) But in our case the smallest value chosen is the optimal choice. Higher value of k results in underfitting the model because it has way too many data elements to comapre the datapoint with that the distinction between the nearest and not so near elements becomes blurry. This will again result in misclassification of data and in many cases may output classes that have dominance in the dataset. When choosing an optimal value of K, it should be larger enough to minimize the noise in the data and small enough to avoid misclassification of data. \n"
   ]
  },
  {
   "cell_type": "code",
   "execution_count": 13,
   "metadata": {
    "colab": {
     "base_uri": "https://localhost:8080/",
     "height": 85
    },
    "colab_type": "code",
    "id": "IwACWZUh0zSP",
    "outputId": "1156a8b3-9494-4786-ce3f-efce43f84025"
   },
   "outputs": [
    {
     "name": "stdout",
     "output_type": "stream",
     "text": [
      "Accuracy of XGBoost classifier on training set: 0.88\n",
      "667.6143534183502\n",
      "Accuracy of XGBoost classifier on test set: 0.86\n",
      "667.8802578449249\n"
     ]
    }
   ],
   "source": [
    "#xgboost\n",
    "import xgboost as xgb\n",
    "import time\n",
    "model=xgb.XGBClassifier(eta=0.3, max_depth=40, seed=42, min_child_weight=300, objective='multi:softmax')\n",
    "start_time=time.time()\n",
    "model.fit(X_train, y_train)\n",
    "\n",
    "print('Accuracy of XGBoost classifier on training set: {:.2f}'\n",
    "     .format(model.score(X_train, y_train)))\n",
    "print(time.time()-start_time)\n",
    "print('Accuracy of XGBoost classifier on test set: {:.2f}'\n",
    "     .format(model.score(X_val, y_val)))\n",
    "print(time.time()-start_time)"
   ]
  },
  {
   "cell_type": "markdown",
   "metadata": {
    "colab_type": "text",
    "id": "wV7dxgE48oqy"
   },
   "source": [
    "The accuracy obtained for XGBoost was lower than expected. With the advantages available, it could easily outperform the other algorithm. But there are so many parameters that need to be tuned as a result of which some combinations which perform well are left out. This combination had performed better than any of the others that have been tried so far. There are many more that can outperform these parameters. The general observations were as follows:\n",
    "1. Smaller values of eta resulted in more time consumption than required.\n",
    "2. Max_depth was tested for range 20-50, with better accuracy at 45 beyond which decrease in accuracy was observed\n",
    "3. n_estimators were checked between 100-500 with better results at 300 beyond which decrease in accuracy was observed\n",
    "4. objective was set to multi:softmax. \n",
    "\n",
    "Yet the results were nor any better than SVM but rather had similar observations. Even the time taken for computation was more for XGBoost. It was expected that the time taken would be least in this case. Even the accuracies were lower than SVM. Since SVM outperformed XGBoost, therefore, XGBoost was dropped."
   ]
  },
  {
   "cell_type": "code",
   "execution_count": 14,
   "metadata": {
    "colab": {
     "base_uri": "https://localhost:8080/",
     "height": 85
    },
    "colab_type": "code",
    "id": "daGkNYnfS5oZ",
    "outputId": "111a3103-795b-473c-849b-28aa78933ed5"
   },
   "outputs": [
    {
     "name": "stdout",
     "output_type": "stream",
     "text": [
      "Accuracy of SVM classifier on training set: 0.94\n",
      "580.9654021263123\n",
      "Accuracy of SVM classifier on test set: 0.89\n",
      "612.8806030750275\n"
     ]
    }
   ],
   "source": [
    "from sklearn.svm import SVC\n",
    "gamma=[0.001,0.01,0.05,1]\n",
    "C=[1,5,10,100,500]\n",
    "# These were the combinations that were tested repeatedly. GridSearch was taking longer than expected, hence the results have not been included. \n",
    "# The code has been commented. It can be uncommented and tested to view the results.\n",
    "# parameters = {'gamma'=[0.001,0.01,0.05,1], 'C':[1,5,10,20,100]}\n",
    "# svc = svm.SVC()\n",
    "# clf = GridSearchCV(svc, parameters)\n",
    "# clf.fit(X_train, y_train)\n",
    "# The best outcome has been written below:\n",
    "svm = SVC(gamma=0.001, C = 10, kernel='rbf')\n",
    "import time\n",
    "start_time = time.time()\n",
    "svm.fit(X_train, y_train)\n",
    "print('Accuracy of SVM classifier on training set: {:.2f}'\n",
    "     .format(svm.score(X_train, y_train)))\n",
    "print(time.time()-start_time)\n",
    "print('Accuracy of SVM classifier on test set: {:.2f}'\n",
    "     .format(svm.score(X_val, y_val)))\n",
    "print(time.time()-start_time)"
   ]
  },
  {
   "cell_type": "markdown",
   "metadata": {
    "colab_type": "text",
    "id": "go_Lv6MCAmpk"
   },
   "source": [
    "SVM has been able to outperform all the other classification models tested so far. The maximum accuracy reported on the test data is 89.2%(reported for 50% of the data). As defined above, the following parameters were hypertuned. The kernel was set to 'rbf' as linear took a lot of time to compile the results and the difference in the accuarcy of test result was also marginal. For the other parameters, the model performed the best at c=10 and gamma=0.001.\n",
    "\n",
    "The factors that determine which c value is the best are:\n",
    "1. to have hyperplanes that do not misclassify the data\n",
    "2. to have the largest minimum margin between hyperplanes\n",
    "\n",
    "C at 10 and 100 had minimal difference when the results were compared. Rather a slight dip in the accuracy for c=100 was observed. also considering the above statements, we can say that '10' best satisfies the purpose of the model as it would have similar misclassification as 100 and will have larger margin between the hyperplanes as compared to 100.\n",
    "\n",
    "Also, having lower curvature gave better results than higher gamma value which suggests that data is not wide spread, hence having lower curvature better performs on the results.\n",
    "\n",
    "The time recorded for calculating training accuracy and test accuarcy was better than XGBoost, therefore, we can say that SVM outperforms all the other models and their constraints that were tested on the dataset.\n",
    "\n",
    "The runtime for fitting the model and calculating the accuracy of training model was ~580 seconds.\n",
    "\n",
    "The accuracy obtained for training was maximum for c=10 and gamma =0.01 and was equal to 94% with validation accuracy as 89%. For other combinations, training accuracy was 91% and below with validation accuracy 88% and below."
   ]
  },
  {
   "cell_type": "code",
   "execution_count": 15,
   "metadata": {
    "colab": {
     "base_uri": "https://localhost:8080/",
     "height": 68
    },
    "colab_type": "code",
    "id": "54-zdrzyRTEa",
    "outputId": "b511708c-450c-4c58-82cd-6dec80b33ac9"
   },
   "outputs": [
    {
     "name": "stdout",
     "output_type": "stream",
     "text": [
      "[3 4 0 ... 3 2 2]\n",
      "CPU times: user 53.1 s, sys: 10 ms, total: 53.2 s\n",
      "Wall time: 53.2 s\n"
     ]
    }
   ],
   "source": [
    "%%time\n",
    "y_test_svm=svm.predict(X_test)\n",
    "print(y_test_svm)"
   ]
  },
  {
   "cell_type": "markdown",
   "metadata": {
    "colab_type": "text",
    "id": "UKrmDLE8eATa"
   },
   "source": [
    "SVM was chosen as the most optimal model and was used to predict the results of test model. \n",
    "\n",
    "The runtime of calculating test results is 53.2 seconds"
   ]
  },
  {
   "cell_type": "code",
   "execution_count": 16,
   "metadata": {
    "colab": {
     "base_uri": "https://localhost:8080/",
     "height": 255
    },
    "colab_type": "code",
    "id": "qT0GlfGoQujZ",
    "outputId": "fa6188bf-7a6c-4c11-a434-413acbf8a545"
   },
   "outputs": [
    {
     "name": "stdout",
     "output_type": "stream",
     "text": [
      "        Id  Label\n",
      "0        0      3\n",
      "1        1      4\n",
      "2        2      0\n",
      "3        3      1\n",
      "4        4      1\n",
      "...    ...    ...\n",
      "9995  9995      1\n",
      "9996  9996      1\n",
      "9997  9997      3\n",
      "9998  9998      2\n",
      "9999  9999      2\n",
      "\n",
      "[10000 rows x 2 columns]\n"
     ]
    }
   ],
   "source": [
    "result = pd.DataFrame((y_test_svm),columns = ['Label'])\n",
    "Id = pd.read_csv('testX.csv')[['Id']]\n",
    "submission = pd.concat([Id,result], axis=1)\n",
    "submission.columns = ['Id', 'Label']\n",
    "submission.to_csv('submission(svm).csv',index=False)\n",
    "\n",
    "print(submission)"
   ]
  },
  {
   "cell_type": "markdown",
   "metadata": {
    "colab_type": "text",
    "id": "iEAkf8h3ef2R"
   },
   "source": [
    "ROC is used to check the sensitivity of the datapoints against the decision boundry. The closer they are to the top left corner, the better the results are as they correspond to more area under the curve. The greater the area captured by the curve, the better as the area represents the random points for which the results would be true positives and the are outside the curve are the ones for which the results would be false positives."
   ]
  },
  {
   "cell_type": "code",
   "execution_count": 12,
   "metadata": {
    "colab": {
     "base_uri": "https://localhost:8080/",
     "height": 295
    },
    "colab_type": "code",
    "id": "rC56JdTrB2oL",
    "outputId": "47fb41c1-74b3-44a0-a20c-59b205b5f253"
   },
   "outputs": [
    {
     "data": {
      "image/png": "[encoded data removed]",
      "text/plain": [
       "<Figure size 432x288 with 1 Axes>"
      ]
     },
     "metadata": {
      "needs_background": "light",
      "tags": []
     },
     "output_type": "display_data"
    }
   ],
   "source": [
    "# for ROC curve \n",
    "from sklearn.preprocessing import label_binarize\n",
    "from sklearn.metrics import roc_curve\n",
    "from sklearn.metrics import roc_curve, auc\n",
    "import matplotlib.pyplot as plt\n",
    "\n",
    "y_pred = y_test_svm\n",
    "y_pred = label_binarize(y_pred,classes=[0,1,2,3,4])\n",
    "\n",
    "y_test = label_binarize(y_val,classes=[0,1,2,3,4])\n",
    "\n",
    "# Compute ROC curve and ROC area for each class\n",
    "fpr = dict()\n",
    "tpr = dict()\n",
    "roc_auc = dict()\n",
    "for i in range(5):\n",
    "    fpr[i], tpr[i], _ = roc_curve(y_test[:, i], y_pred[:, i])\n",
    "    roc_auc[i] = auc(fpr[i], tpr[i])\n",
    "\n",
    "plt.figure()\n",
    "lw = 2\n",
    "plt.plot(fpr[0], tpr[0],lw=lw, label='ROC curve class 0 (area = %0.2f)' % roc_auc[0])\n",
    "plt.plot(fpr[1], tpr[1],lw=lw, label='ROC curve class 1 (area = %0.2f)' % roc_auc[1])\n",
    "plt.plot(fpr[2], tpr[2],lw=lw, label='ROC curve class 2 (area = %0.2f)' % roc_auc[2])\n",
    "plt.plot(fpr[3], tpr[3],lw=lw, label='ROC curve class 3 (area = %0.2f)' % roc_auc[3])\n",
    "plt.plot(fpr[4], tpr[4],lw=lw, label='ROC curve class 4 (area = %0.2f)' % roc_auc[4])\n",
    "plt.plot([0, 1], [0, 1], color='navy', lw=lw, linestyle='--')\n",
    "plt.xlim([0.0, 1.0])\n",
    "plt.ylim([0.0, 1.05])\n",
    "plt.xlabel('False Positive Rate')\n",
    "plt.ylabel('True Positive Rate')\n",
    "plt.title('ROC SVM')\n",
    "plt.legend(loc=\"lower right\")\n",
    "plt.show()"
   ]
  },
  {
   "cell_type": "markdown",
   "metadata": {
    "colab_type": "text",
    "id": "y83Q6Hsngkjn"
   },
   "source": [
    "Class 0 captures maximum area followed by class 4, class 1, class 3 and minimum by class 2. From this we can say that class 0 will have more true positive than any other classes."
   ]
  },
  {
   "cell_type": "markdown",
   "metadata": {
    "colab_type": "text",
    "id": "EL-Z6s0mD8lB"
   },
   "source": [
    "\n",
    "Questions stated in the assignment:\n",
    "1. Explanation of Design and implementation of choices of your models - all the models that were considered during the execution of the model have been explained along with the code snippets.\n",
    "2. Implementation of design choices - All the choices that were made have there codes snippets along with explanation.\n",
    "3. Kaggle Competition Score - 89.180%\n",
    "4. Results Analysis:\n",
    "        a. Runtime performance: \n",
    "        Training - 580 seconds, validation prediction - 37 seconds, test prediction - 41.3 seconds.\n",
    "        b. Comparision of different algorithms and parameters: \n",
    "        For algorithm, all the combinations of parameters that were tried have been stated. The results between different algorithms was distinguished based on test accuracy and time taken to produce results.\n",
    "    For preprocessing - Standard Scaler was chosen over MinMax: The major difference between the two is that the zscore centers the data by subtracting the mean and dividing by standard deviation(sets the overall mean as zero and standard deviation as one) whereas, minmax scaler rescales the data by setting minimum to 0 and maximum to 1(by default) and all the other values scale accordingly. The end goal is to maximize the variance such that dimensionality reduction could work better. For this, if we go by values itself, we would be able to distinguish by the fact that minmax ranges the data between 0 and 1 whereas standardscaler has ~68% data ranging between -1 and 1 and ~95% between-1.96 and 1.96, which shows that data is more widespread in standardscaler than in minmax.\n",
    "    Also, when tested on SVM, the accuarcy from minmax was 20% for validation set and 89% from StandardScaler\n",
    "    For dimensionality reduction: out of two major sub selections - PCA and t-SNE, PCA was chosen based on the plots generated and time taken to compile results. t-SNE should be rejected as it took ~8 hours to compute the model whereas PCA took ~321 seconds to generate the results(when n_componenets were not specified). Hence PCA was a better option than any other method.\n",
    "    For classification: out of KNN, XGBoost and SVM, SVM was chosen as the SVM generated maximum model accuracya nd took least time out of the three models to generate results. The hyperparameter tuning of each of the algorithms have been discussed above in detail. The time taken and the accuarcy generated have been staed alongside.\n",
    "        c. Explanation of your model: \n",
    "    Support Vector Machine tries to find a hyperplane that correctly classifies the data into one of the defined groups. The goal of SVM is to maximize the distance between the hyperplanes making sure that it does not misclassifiy the data. SVM has been able to outperform all the other classification models tested so far. The maximum accuracy reported on the test data is 89.2%(reported for 50% of the data). As defined above, the following parameters were hypertuned. The kernel was set to 'rbf' as linear took a lot of time to compile the results and the difference in the accuarcy of test result was also marginal. For the other parameters, the model performed the best at c=10 and gamma=0.001.\n",
    "\n",
    "    The factors that determine which c value is the best are:\n",
    "\n",
    "    to have hyperplanes that do not misclassify the data\n",
    "    to have the largest minimum margin between hyperplanes\n",
    "    C at 10 and 100 had minimal difference when the results were compared. Rather a slight dip in the accuracy for c=100 was observed. also considering the above statements, we can say that '10' best satisfies the purpose of the model as it would have similar misclassification as 100 and will have larger margin between the hyperplanes as compared to 100.\n",
    "\n",
    "    Also, having lower curvature gave better results than higher gamma value which suggests that data is not wide spread, hence having lower curvature better performs on the results.\n",
    "\n",
    "    The time recorded for calculating training accuracy and test accuarcy was better than XGBoost, therefore, we can say that SVM outperforms all the other models and their constraints that were tested on the dataset.\n",
    "\n",
    "    The runtime for fitting the model and calculating the accuracy of training model was ~580 seconds.\n",
    "\n",
    "    The accuracy obtained for training was maximum for c=10 and gamma =0.01 and was equal to 94% with validation accuracy as 89%. For other combinations, training accuracy was 91% and below with validation accuracy 88% and below.\n",
    "        d. ROC Curve: \n",
    "        The plot along with its explanation has been stated above.\n",
    "        e. Evaluate your code: \n",
    "        The code has been split into 90-10 ratio for comparision. The training data has been tested on various hyperparameters and best results ahve been calculated.\n",
    "    The accuracy obtained for training was maximum for c=10 and gamma =0.01 and was equal to 94% with validation accuracy as 89%. For other combinations, training accuracy was 91% and below with validation accuracy 88% and below."
   ]
  },
  {
   "cell_type": "code",
   "execution_count": null,
   "metadata": {},
   "outputs": [],
   "source": []
  }
 ],
 "metadata": {
  "colab": {
   "collapsed_sections": [],
   "name": "Assignment 3 a).ipynb",
   "provenance": []
  },
  "kernelspec": {
   "display_name": "Python 3",
   "language": "python",
   "name": "python3"
  },
  "language_info": {
   "codemirror_mode": {
    "name": "ipython",
    "version": 3
   },
   "file_extension": ".py",
   "mimetype": "text/x-python",
   "name": "python",
   "nbconvert_exporter": "python",
   "pygments_lexer": "ipython3",
   "version": "3.7.4"
  }
 },
 "nbformat": 4,
 "nbformat_minor": 1
}
