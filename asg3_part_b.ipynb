{
 "cells": [
  {
   "cell_type": "markdown",
   "metadata": {
    "colab_type": "text",
    "id": "_FhTgqB5KudM"
   },
   "source": [
    "# Assignment 3\n",
    "### Question 2 - CNN model\n",
    "\n",
    "In this part of the assignment, the same classification problem will be resolved using CNN architecture. The modelling started with a simple layer and later more layers were added to improvise the accuracy. The code below walks you through all the steps that led to the final layer structuring.\n",
    "\n",
    "The dataset is fashion MNIST with 786 columns and 60,000 observations. Due to the large size of data and incompatible system configuration, the implementation was moved to google colabs. This dataset is the representation of five different kinds of fashion items. Each row represents one fashion item and every column of the row stores the pixel value used to generate the image of the fashion item. Based on these values, we have to classify the data into 5 distinct categories.\n",
    " \n",
    "The different methods used for implementation and the reasons why, have been discussed along with the code snippets, combining question 1 and 2 asked in the assignment.\n",
    "\n",
    "Also, some sections had to interrupt when executing the second time due to long hours they were taking for implementation."
   ]
  },
  {
   "cell_type": "code",
   "execution_count": 0,
   "metadata": {
    "colab": {},
    "colab_type": "code",
    "id": "sNMQR5JSfw_8"
   },
   "outputs": [],
   "source": [
    "import numpy as np \n",
    "import pandas as pd \n",
    "import matplotlib.pyplot as plt \n",
    "import keras\n",
    "import keras.utils\n",
    "from keras.models import Sequential\n",
    "from keras import utils as np_utils\n",
    "from keras.models import Model\n",
    "from keras.layers import Dense, Input\n",
    "from keras.layers import Conv2D, MaxPooling2D, Dropout, Flatten, BatchNormalization, AveragePooling2D\n",
    "from keras import backend as k\n",
    "import time as time\n",
    "from keras import optimizers\n",
    "from keras import regularizers\n",
    "from sklearn.model_selection import train_test_split\n",
    "from keras.optimizers import Adam,SGD,Adagrad,Adadelta,RMSprop\n",
    "from keras.callbacks import ReduceLROnPlateau, LearningRateScheduler\n",
    "from keras.preprocessing.image import ImageDataGenerator\n",
    "from keras.constraints import max_norm\n",
    "import os\n"
   ]
  },
  {
   "cell_type": "markdown",
   "metadata": {
    "colab_type": "text",
    "id": "0e2pF-1GOMc_"
   },
   "source": [
    "The implementation started with loading the train and test dataset. The test dataset had 10,000 observations on which the accuracy of the model was calculated. The train dataset was then split into train and validation set(10% of the total data), to check the validity of the model before running it on the test data. The data was transformed into a 28X28 matrix to generate the images for better visual understanding using imshow()"
   ]
  },
  {
   "cell_type": "code",
   "execution_count": 23,
   "metadata": {
    "colab": {
     "base_uri": "https://localhost:8080/",
     "height": 102
    },
    "colab_type": "code",
    "id": "1TCGq-wokv_Y",
    "outputId": "6fc38d74-d28c-4bd7-98f9-98cbb8dc2831"
   },
   "outputs": [
    {
     "name": "stdout",
     "output_type": "stream",
     "text": [
      "Shape of Training Features: (54000, 784)\n",
      "Shape of Validate Features: (6000, 784)\n",
      "Shape of Training labels: (54000,)\n",
      "Shape of Validation labels: (6000,)\n",
      "Shape of Testing Features: (10000, 784)\n"
     ]
    }
   ],
   "source": [
    "data_train_orig = pd.read_csv('train.csv')\n",
    "\n",
    "y_train_0 = data_train_orig['Label']\n",
    "\n",
    "X_train_0 = data_train_orig.drop(\"Id\", axis = 1)   # Dropping the Id column as it seems to be redundant\n",
    "X_train_1 = X_train_0.drop(\"Label\", axis = 1)\n",
    "\n",
    "seed = 42\n",
    "\n",
    "X_train, X_val, y_train, y_val = train_test_split(X_train_1, y_train_0, random_state = seed, test_size = 0.1)                                       # Dropping the column of target labels to retain only the feature values\n",
    "\n",
    "data_test_orig = pd.read_csv('testX.csv')\n",
    "\n",
    "X_test = data_test_orig.drop(\"Id\", axis = 1)   \n",
    "\n",
    "print(\"Shape of Training Features:\", X_train.shape)\n",
    "print(\"Shape of Validate Features:\", X_val.shape)\n",
    "print(\"Shape of Training labels:\", y_train.shape)\n",
    "print(\"Shape of Validation labels:\", y_val.shape)\n",
    "print(\"Shape of Testing Features:\", X_test.shape)\n",
    "# print(\"Shape of Training Features:\", y_test.shape) "
   ]
  },
  {
   "cell_type": "markdown",
   "metadata": {
    "colab_type": "text",
    "id": "Bhk6YPwoQBr6"
   },
   "source": [
    "The total number of unique classes were checked "
   ]
  },
  {
   "cell_type": "code",
   "execution_count": 24,
   "metadata": {
    "colab": {
     "base_uri": "https://localhost:8080/",
     "height": 51
    },
    "colab_type": "code",
    "id": "a5VA82penpEx",
    "outputId": "5aa80cd7-3eda-4dda-9e6d-602b6a20fdd6"
   },
   "outputs": [
    {
     "name": "stdout",
     "output_type": "stream",
     "text": [
      "Total number of outputs :  5\n",
      "Output classes :  [0 1 2 3 4]\n"
     ]
    }
   ],
   "source": [
    "# Find the unique numbers from the train labels\n",
    "classes = np.unique(y_train)\n",
    "nClasses = len(classes)\n",
    "print('Total number of outputs : ', nClasses)\n",
    "print('Output classes : ', classes)"
   ]
  },
  {
   "cell_type": "markdown",
   "metadata": {
    "colab_type": "text",
    "id": "emhvUb0bgHPk"
   },
   "source": [
    "They are reshaped in the shape the model expects them to be in. "
   ]
  },
  {
   "cell_type": "code",
   "execution_count": 0,
   "metadata": {
    "colab": {},
    "colab_type": "code",
    "id": "RKRVboYen2Tr"
   },
   "outputs": [],
   "source": [
    "# Image Data format\n",
    "# Grayscale images are loaded as a 2-D array. Before they can be used for modeling, an explicit channel dimension to the image in necessary. \n",
    "# This does not add new data; instead, it changes the array data structure to have an additional third axis with one dimension to hold the grayscale pixel values.\n",
    "\n",
    "img_rows, img_cols = 28,28\n",
    "\n",
    "# Keras have default as channel last\n",
    "X_train = X_train.values.reshape(X_train.shape[0], img_rows, img_cols, 1)  \n",
    "X_val = X_val.values.reshape(X_val.shape[0], img_rows, img_cols, 1) \n",
    "X_test = X_test.values.reshape(X_test.shape[0], img_rows, img_cols, 1)         \n",
    "X_inp = (img_rows, img_cols, 1) "
   ]
  },
  {
   "cell_type": "code",
   "execution_count": 7,
   "metadata": {
    "colab": {
     "base_uri": "https://localhost:8080/",
     "height": 34
    },
    "colab_type": "code",
    "id": "NYaOdrOtoFUp",
    "outputId": "52796d19-d078-446d-86c5-2706b3893024"
   },
   "outputs": [
    {
     "name": "stdout",
     "output_type": "stream",
     "text": [
      "Training data shape :  (6000, 28, 28, 1) (54000,)\n"
     ]
    }
   ],
   "source": [
    "print('Training data shape : ', X_val.shape, y_train.shape)"
   ]
  },
  {
   "cell_type": "markdown",
   "metadata": {
    "colab_type": "text",
    "id": "9H-whky_QQjb"
   },
   "source": []
  },
  {
   "cell_type": "markdown",
   "metadata": {
    "colab_type": "text",
    "id": "f9oqFM4MVD7f"
   },
   "source": [
    "Since the image pixel values ranges between 0 and 255, the data is normalized by dividing each pixel by the maximum of the range i.e. 255."
   ]
  },
  {
   "cell_type": "code",
   "execution_count": 0,
   "metadata": {
    "colab": {},
    "colab_type": "code",
    "id": "dgTKPM_6oLr2"
   },
   "outputs": [],
   "source": [
    "# Normalizing data\n",
    "X_train = X_train.astype('float32')\n",
    "X_val = X_val.astype('float32')\n",
    "X_test = X_test.astype('float32')\n",
    "\n",
    "X_train /= 255\n",
    "X_val /= 255\n",
    "X_test /= 255"
   ]
  },
  {
   "cell_type": "markdown",
   "metadata": {
    "colab_type": "text",
    "id": "xeKj0UvgVZk9"
   },
   "source": [
    "By doing this step, we create 5 columns corresponding to each of the 5 categories"
   ]
  },
  {
   "cell_type": "code",
   "execution_count": 0,
   "metadata": {
    "colab": {},
    "colab_type": "code",
    "id": "Us-RYHMVoPUe"
   },
   "outputs": [],
   "source": [
    "# 5 Target classes: 0 - 4\n",
    "# keras.utils.to_categorical will create 5 columns\n",
    "\n",
    "y_train = keras.utils.to_categorical(y_train) \n",
    "y_val = keras.utils.to_categorical(y_val)\n",
    "#y_test = keras.utils.to_categorical(y_test)"
   ]
  },
  {
   "cell_type": "markdown",
   "metadata": {
    "colab_type": "text",
    "id": "jL6BbyXrXNe8"
   },
   "source": [
    "The following variables were set after testing them with different combinations. The batch_size was tested on smaller sizes but that resulted in the model taking a lot of time to compute the results. Therefore, 512 was chosen as the final size.\n",
    "\n",
    "Epochs were also tested on 20, 50, 100 and 200. It was observed that the increase in accuracy between 100 and 200 was very slow compared to that of 0-100. Therefore, the number of epochs were set as 200 because they did not increase beyond that point. \n"
   ]
  },
  {
   "cell_type": "code",
   "execution_count": 0,
   "metadata": {
    "colab": {},
    "colab_type": "code",
    "id": "pA5cWf9KoTXX"
   },
   "outputs": [],
   "source": [
    "batch_size = 512\n",
    "epochs = 200\n",
    "num_classes = 5"
   ]
  },
  {
   "cell_type": "markdown",
   "metadata": {
    "colab_type": "text",
    "id": "eokbThcXbQ7f"
   },
   "source": [
    "Convolution is nothing but weighted sum of pixel values of the image. As we define the size of the sliding window, the convolution calculates the weight over those values under consideration. As the window slides, it convolves the window with the images to generate a new value for the image pixel. Once the values are generated, max pooling is executed. Max pooling is used for reducing the dimensionality of the image. What is does is it picks up the maximum values from the set of values within the window and allocates it as the new value of the reduced dimension. This window keeps on sliding till a new layer with reduced dimensionality is produced. But the layers produced are 3D in nature and for a fully connected network, we need a vector of values. To do that flatten() is used which converts it into a vector. Lastly, Dense layer is a fully connected network just like an ANN. Dropout layers are also added to drop the neurons in the layer i.e. if p=0.5, then 50% of the neurons are dropped. Batch Normalization can also be done. It is another way to regularizer the data."
   ]
  },
  {
   "cell_type": "markdown",
   "metadata": {
    "colab_type": "text",
    "id": "C5sOx6VwtVse"
   },
   "source": [
    "# Hyperparameter tuning \n",
    "Hyerparameter tuning is another part that need to be considered while convolving the layers. These are usually generated by testing and trying different values. For example, what kindly of padding shall be done(same is preserved as it borders the outline with same values as the previous layer), what kind of activation function shall be chosen(linear or relu). I tried with linear and later adding a layer of LeakyRelu layer but that hampered the performance of the model, therefore activation function was directly set to relu. Different combinations with dropout were tested as well but setting it equal to 0.5 yielded best results.\n",
    "\n",
    "Also, the activation function is set to relu as it resolves the problem of vanishing gradient. Thats why, when the activation was set to linear, the accuracy was dropped because of vanishing gradient.\n",
    "\n",
    "kernel size is set to 3X3 for Conv2D as this the smallest window on which the model performs best convolution. Even the number of filters are chosen to be small so that the model does not overfit the training set. The initial value is small but as the parameters increase, the number of filters change accordingly.\n",
    "\n",
    "For max_pooling, the window size is 2X2 so that no information is lost as well as it is made sure that the edges are sharpened. For Dense, a fully connected network is designed, therfore the transition from given nodes to the output nodes shall be smooth and it shall be made sure that no information is lost on the way. Adding too many layers can also lead to overfitting the train data resulting in lower accuracy.\n",
    "\n",
    "Usually the CNN initial layers work as edge detector and as we increase the number of layers more features start becoming prominent. Max pooling after CNN makes edges noticeable. Also dense layers help in retaining the properties of the data, therefore more the layers, more hidden features can be fetched."
   ]
  },
  {
   "cell_type": "code",
   "execution_count": 0,
   "metadata": {
    "colab": {},
    "colab_type": "code",
    "id": "6B0c4Os2Zh79"
   },
   "outputs": [],
   "source": [
    "# Model 1\n",
    "# fashion_model = Sequential()\n",
    "# fashion_model.add(Conv2D(32, kernel_size=(3, 3),activation='linear',padding='same',input_shape=(28,28,1)))\n",
    "# fashion_model.add(LeakyReLU(alpha=0.1))\n",
    "# fashion_model.add(MaxPooling2D((2, 2),padding='same'))\n",
    "# fashion_model.add(Flatten())\n",
    "# fashion_model.add(Dense(128, activation='linear'))\n",
    "# fashion_model.add(LeakyReLU(alpha=0.1))           \n",
    "# fashion_model.add(Dropout(0.5))\n",
    "# fashion_model.add(Dense(num_classes, activation='softmax'))\n",
    "\n",
    "# 72% accuracy on test data, training - 85%, val - 76%"
   ]
  },
  {
   "cell_type": "markdown",
   "metadata": {
    "colab_type": "text",
    "id": "w46WjYu5wfBY"
   },
   "source": [
    "I tried with linear and later adding a layer of LeakyRelu layer but that hampered the performance of the model, therefore activation function was directly set to relu."
   ]
  },
  {
   "cell_type": "code",
   "execution_count": 0,
   "metadata": {
    "colab": {},
    "colab_type": "code",
    "id": "0TWCmHteucVj"
   },
   "outputs": [],
   "source": [
    "# Model 2\n",
    "# fashion_model = Sequential()\n",
    "# fashion_model.add(Conv2D(32, kernel_size=(3, 3),activation='relu',padding='same',input_shape=(28,28,1)))\n",
    "# fashion_model.add(MaxPooling2D(pool_size=(2, 2),padding='same'))\n",
    "# fashion_model.add(Dropout(0.5))\n",
    "# fashion_model.add(Flatten())\n",
    "# fashion_model.add(Dense(128, activation='relu'))\n",
    "# fashion_model.add(Dense(num_classes, activation='softmax'))\n",
    "\n",
    "# 82.4% accuracy on test data, training - 89%, val - 84%"
   ]
  },
  {
   "cell_type": "markdown",
   "metadata": {
    "colab_type": "text",
    "id": "Udpm_vNww1kX"
   },
   "source": [
    "Increasing the number of convolution layer improvised the accuracy on validation set"
   ]
  },
  {
   "cell_type": "code",
   "execution_count": 0,
   "metadata": {
    "colab": {},
    "colab_type": "code",
    "id": "tCRAR3ADoZsb"
   },
   "outputs": [],
   "source": [
    "# Model 3\n",
    "# fashion_model = Sequential()\n",
    "# fashion_model.add(Conv2D(32, kernel_size=(3, 3),activation='relu',padding='same',input_shape=(28,28,1)))\n",
    "# fashion_model.add(Conv2D(64, (3, 3), activation='relu',padding='same'))\n",
    "# fashion_model.add(MaxPooling2D(pool_size=(2, 2),padding='same'))\n",
    "# fashion_model.add(Dropout(0.5))\n",
    "# fashion_model.add(Flatten())\n",
    "# fashion_model.add(Dense(128, activation='relu'))\n",
    "# fashion_model.add(Dense(num_classes, activation='softmax'))\n",
    "\n",
    "# 84.6% accuracy on test data, training - 92%, val - 86%"
   ]
  },
  {
   "cell_type": "markdown",
   "metadata": {
    "colab_type": "text",
    "id": "ADOb14HGxMb9"
   },
   "source": [
    "Adding another segment of convolution layer and max pooling with dropout increased the performance but time taken was also increased, therefore from the second segment one convolution layer was removed, leaving only one in that segment. It was observed that the change in accuarcy was marginal but the time was improvised be a great extent."
   ]
  },
  {
   "cell_type": "code",
   "execution_count": 0,
   "metadata": {
    "colab": {},
    "colab_type": "code",
    "id": "WnSIzMOlxAmo"
   },
   "outputs": [],
   "source": [
    "# Model 4\n",
    "# fashion_model = Sequential()\n",
    "# fashion_model.add(Conv2D(32, kernel_size=(3, 3),activation='relu',padding='same',input_shape=(28,28,1)))\n",
    "# fashion_model.add(Conv2D(64, (3, 3), activation='relu',padding='same'))\n",
    "# fashion_model.add(MaxPooling2D(pool_size=(2, 2),padding='same'))\n",
    "# fashion_model.add(Dropout(0.5))\n",
    "# fashion_model.add(Conv2D(128, (3, 3), activation='relu',padding='same'))           \n",
    "# fashion_model.add(MaxPooling2D(pool_size=(2, 2),padding='same'))\n",
    "# fashion_model.add(Dropout(0.5))\n",
    "# fashion_model.add(Flatten())\n",
    "# fashion_model.add(Dense(128, activation='relu'))\n",
    "# fashion_model.add(Dense(num_classes, activation='softmax'))\n",
    "#86.7% accuracy on test data, training - 95%, val - 87%"
   ]
  },
  {
   "cell_type": "markdown",
   "metadata": {
    "colab_type": "text",
    "id": "ToU7B4AIyEEk"
   },
   "source": [
    "For regularizing the data, Batch normalization was added. But it was observed that this led to decrease in the validation accuracy. "
   ]
  },
  {
   "cell_type": "code",
   "execution_count": 0,
   "metadata": {
    "colab": {},
    "colab_type": "code",
    "id": "V5rFkUuuyHaQ"
   },
   "outputs": [],
   "source": [
    "# Model 5\n",
    "# fashion_model = Sequential()\n",
    "# fashion_model.add(Conv2D(32, kernel_size=(3, 3),activation='relu',padding='same',input_shape=(28,28,1)))\n",
    "# fashion_model.add(BatchNormalization())\n",
    "# fashion_model.add(Conv2D(64, (3, 3), activation='relu',padding='same'))\n",
    "# fashion_model.add(BatchNormalization())\n",
    "# fashion_model.add(MaxPooling2D(pool_size=(2, 2),padding='same'))\n",
    "# fashion_model.add(Dropout(0.5))\n",
    "# fashion_model.add(Conv2D(128, (3, 3), activation='relu',padding='same'))  \n",
    "# fashion_model.add(BatchNormalization())          \n",
    "# fashion_model.add(MaxPooling2D(pool_size=(2, 2),padding='same'))\n",
    "# fashion_model.add(Dropout(0.5))\n",
    "# fashion_model.add(Flatten())\n",
    "# fashion_model.add(Dense(128, activation='relu'))\n",
    "# fashion_model.add(BatchNormalization())\n",
    "# fashion_model.add(Dense(num_classes, activation='softmax'))\n",
    "#80.3% accuracy on test data, training - 89%, val - 82%"
   ]
  },
  {
   "cell_type": "markdown",
   "metadata": {
    "colab_type": "text",
    "id": "kFE_f6YByuDP"
   },
   "source": [
    "To improvise on the model, Batch Normalization was removed from the dense layers as it regularized the data(features) that were extracted from the fully connected layer. This led to loss of information, hence it was removed."
   ]
  },
  {
   "cell_type": "code",
   "execution_count": 0,
   "metadata": {
    "colab": {},
    "colab_type": "code",
    "id": "R0irpkmtykic"
   },
   "outputs": [],
   "source": [
    "# model 6\n",
    "# fashion_model = Sequential()\n",
    "# fashion_model.add(Conv2D(32, kernel_size=(3, 3),activation='relu',padding='same',input_shape=(28,28,1)))\n",
    "# fashion_model.add(Conv2D(64, (3, 3), activation='relu',padding='same'))\n",
    "# fashion_model.add(BatchNormalization())\n",
    "# fashion_model.add(MaxPooling2D(pool_size=(2, 2),padding='same'))\n",
    "# fashion_model.add(Dropout(0.5))\n",
    "# fashion_model.add(Conv2D(128, (3, 3), activation='relu',padding='same'))  \n",
    "# fashion_model.add(BatchNormalization())          \n",
    "# fashion_model.add(MaxPooling2D(pool_size=(2, 2),padding='same'))\n",
    "# fashion_model.add(Dropout(0.5))\n",
    "# fashion_model.add(Flatten())\n",
    "# fashion_model.add(Dense(128, activation='relu'))\n",
    "# fashion_model.add(Dense(num_classes, activation='softmax'))\n",
    "#88% accuracy on test data, training - 97%, val - 90%"
   ]
  },
  {
   "cell_type": "code",
   "execution_count": 0,
   "metadata": {
    "colab": {},
    "colab_type": "code",
    "id": "_Aw7Drzrsbok"
   },
   "outputs": [],
   "source": [
    "# model 7\n",
    "# import keras\n",
    "# from keras.models import Sequential,Input,Model\n",
    "# from keras.layers import Dense, Dropout, Flatten\n",
    "# from keras.layers import Conv2D, MaxPooling2D\n",
    "# from keras.layers.normalization import BatchNormalization\n",
    "# fashion_model = Sequential()\n",
    "# fashion_model.add(Conv2D(32, kernel_size=(3, 3),activation='relu',padding='same',input_shape=(28,28,1)))\n",
    "# fashion_model.add(BatchNormalization())\n",
    "# fashion_model.add(Conv2D(64, (3, 3), activation='relu',padding='same'))\n",
    "# fashion_model.add(BatchNormalization())\n",
    "# fashion_model.add(MaxPooling2D(pool_size=(2, 2),padding='same'))\n",
    "# fashion_model.add(Dropout(0.5))\n",
    "# fashion_model.add(Conv2D(128, (3, 3), activation='relu',padding='same'))  \n",
    "# fashion_model.add(BatchNormalization())          \n",
    "# fashion_model.add(MaxPooling2D(pool_size=(2, 2),padding='same'))\n",
    "# fashion_model.add(Dropout(0.5))\n",
    "# fashion_model.add(Flatten())\n",
    "# fashion_model.add(Dense(128, activation='relu'))\n",
    "# fashion_model.add(Dense(64, activation='relu'))\n",
    "# fashion_model.add(Dense(num_classes, activation='softmax'))\n",
    "# 90.7% accuracy on test data, training - 97%, val - 91%"
   ]
  },
  {
   "cell_type": "markdown",
   "metadata": {
    "colab_type": "text",
    "id": "-7U0tfwwzJUS"
   },
   "source": [
    "Finally, adding another Dense layer led to the generation of best accuracy of the model. The reported accuracy of the model was 90.72% "
   ]
  },
  {
   "cell_type": "code",
   "execution_count": 0,
   "metadata": {
    "colab": {},
    "colab_type": "code",
    "id": "eF70kJGM2-5U"
   },
   "outputs": [],
   "source": [
    "import keras\n",
    "from keras.models import Sequential,Input,Model\n",
    "from keras.layers import Dense, Dropout, Flatten\n",
    "from keras.layers import Conv2D, MaxPooling2D\n",
    "from keras.layers.normalization import BatchNormalization\n",
    "fashion_model = Sequential()\n",
    "fashion_model.add(Conv2D(32, kernel_size=(3, 3),activation='relu',padding='same',input_shape=(28,28,1)))\n",
    "fashion_model.add(Conv2D(64, (3, 3), activation='relu',padding='same'))\n",
    "fashion_model.add(BatchNormalization())\n",
    "fashion_model.add(MaxPooling2D(pool_size=(2, 2),padding='same'))\n",
    "fashion_model.add(Dropout(0.5))\n",
    "fashion_model.add(Conv2D(128, (3, 3), activation='relu',padding='same'))  \n",
    "fashion_model.add(BatchNormalization())          \n",
    "fashion_model.add(MaxPooling2D(pool_size=(2, 2),padding='same'))\n",
    "fashion_model.add(Dropout(0.5))\n",
    "fashion_model.add(Flatten())\n",
    "fashion_model.add(Dense(128, activation='relu'))\n",
    "fashion_model.add(Dense(64, activation='relu'))\n",
    "fashion_model.add(Dense(num_classes, activation='softmax'))"
   ]
  },
  {
   "cell_type": "markdown",
   "metadata": {
    "colab_type": "text",
    "id": "FYfnKqrM0EPX"
   },
   "source": [
    "This was another architecture that was tested but the results were not upto satisfaction. Adding additional Conv2d layer results in overfitting because of which the accuracy is affected."
   ]
  },
  {
   "cell_type": "code",
   "execution_count": 0,
   "metadata": {
    "colab": {},
    "colab_type": "code",
    "id": "AXCTvsSsWyeh"
   },
   "outputs": [],
   "source": [
    "# fashion_model = Sequential()\n",
    "# fashion_model.add(Conv2D(32, (3, 3),activation='relu', padding=\"same\",input_shape=(28,28,1)))\n",
    "# fashion_model.add(BatchNormalization())\n",
    "# fashion_model.add(Conv2D(32, (3, 3),activation='relu', padding=\"same\"))\n",
    "# fashion_model.add(BatchNormalization())\n",
    "# fashion_model.add(MaxPooling2D(pool_size=(2, 2)))\n",
    "# fashion_model.add(Dropout(0.5))\n",
    "# # second CONV => RELU => CONV => RELU => POOL layer set\n",
    "# fashion_model.add(Conv2D(64, (3, 3),activation='relu', padding=\"same\"))\n",
    "# fashion_model.add(BatchNormalization(axis=-1))\n",
    "# fashion_model.add(Conv2D(64, (3, 3),activation='relu', padding=\"same\"))\n",
    "# fashion_model.add(BatchNormalization(axis=-1))\n",
    "# fashion_model.add(MaxPooling2D(pool_size=(2, 2)))\n",
    "# fashion_model.add(Dropout(0.5))\n",
    "# # first (and only) set of FC => RELU layers\n",
    "# fashion_model.add(Flatten())\n",
    "# fashion_model.add(Dense(512,activation='relu'))\n",
    "# fashion_model.add(BatchNormalization())\n",
    "# fashion_model.add(Dropout(0.5))\n",
    "# # softmax classifier\n",
    "# fashion_model.add(Dense(num_classes,activation='softmax'))"
   ]
  },
  {
   "cell_type": "markdown",
   "metadata": {
    "colab_type": "text",
    "id": "UrkDAdWD0GcN"
   },
   "source": [
    "When it came to optimizers, many optimizers were tested such as SGD, Adagrad, AdaDelta, RMSProp and Adam. Out of these three, only Adam was able to generate best results because it is an improvisation of all the optimizers it captures momentum as well as properties of RMSProp.\n",
    "\n",
    "I also designed an improvisation of Adam as a part of Optimization project but due to shortage of time was unable to test on this dataset. I will add the snapshot of the same for reference sake."
   ]
  },
  {
   "cell_type": "code",
   "execution_count": 0,
   "metadata": {
    "colab": {},
    "colab_type": "code",
    "id": "h-EMgOXEoeQC"
   },
   "outputs": [],
   "source": [
    "fashion_model.compile(loss=keras.losses.categorical_crossentropy, optimizer=keras.optimizers.Adam(),metrics=['accuracy'])"
   ]
  },
  {
   "cell_type": "code",
   "execution_count": 31,
   "metadata": {
    "colab": {
     "base_uri": "https://localhost:8080/",
     "height": 595
    },
    "colab_type": "code",
    "id": "-A-0E6d5ofmo",
    "outputId": "3802022e-2bb3-4e54-e22e-ef5dc89b112d"
   },
   "outputs": [
    {
     "name": "stdout",
     "output_type": "stream",
     "text": [
      "Model: \"sequential_2\"\n",
      "_________________________________________________________________\n",
      "Layer (type)                 Output Shape              Param #   \n",
      "=================================================================\n",
      "conv2d_4 (Conv2D)            (None, 28, 28, 32)        320       \n",
      "_________________________________________________________________\n",
      "conv2d_5 (Conv2D)            (None, 28, 28, 64)        18496     \n",
      "_________________________________________________________________\n",
      "batch_normalization_3 (Batch (None, 28, 28, 64)        256       \n",
      "_________________________________________________________________\n",
      "max_pooling2d_3 (MaxPooling2 (None, 14, 14, 64)        0         \n",
      "_________________________________________________________________\n",
      "dropout_3 (Dropout)          (None, 14, 14, 64)        0         \n",
      "_________________________________________________________________\n",
      "conv2d_6 (Conv2D)            (None, 14, 14, 128)       73856     \n",
      "_________________________________________________________________\n",
      "batch_normalization_4 (Batch (None, 14, 14, 128)       512       \n",
      "_________________________________________________________________\n",
      "max_pooling2d_4 (MaxPooling2 (None, 7, 7, 128)         0         \n",
      "_________________________________________________________________\n",
      "dropout_4 (Dropout)          (None, 7, 7, 128)         0         \n",
      "_________________________________________________________________\n",
      "flatten_2 (Flatten)          (None, 6272)              0         \n",
      "_________________________________________________________________\n",
      "dense_4 (Dense)              (None, 128)               802944    \n",
      "_________________________________________________________________\n",
      "dense_5 (Dense)              (None, 64)                8256      \n",
      "_________________________________________________________________\n",
      "dense_6 (Dense)              (None, 5)                 325       \n",
      "=================================================================\n",
      "Total params: 904,965\n",
      "Trainable params: 904,581\n",
      "Non-trainable params: 384\n",
      "_________________________________________________________________\n"
     ]
    }
   ],
   "source": [
    "fashion_model.summary()"
   ]
  },
  {
   "cell_type": "code",
   "execution_count": 32,
   "metadata": {
    "colab": {
     "base_uri": "https://localhost:8080/",
     "height": 1000
    },
    "colab_type": "code",
    "id": "NkMJsICJoi7Q",
    "outputId": "0e971efd-bbbc-4c65-a060-10c3c084d92b",
    "scrolled": false
   },
   "outputs": [
    {
     "name": "stdout",
     "output_type": "stream",
     "text": [
      "Train on 54000 samples, validate on 6000 samples\n",
      "Epoch 1/200\n",
      "54000/54000 [==============================] - 6s 119us/step - loss: 0.9352 - accuracy: 0.6717 - val_loss: 15.5987 - val_accuracy: 0.1983\n",
      "Epoch 2/200\n",
      "54000/54000 [==============================] - 6s 106us/step - loss: 0.4785 - accuracy: 0.8124 - val_loss: 16.3492 - val_accuracy: 0.1985\n",
      "Epoch 3/200\n",
      "54000/54000 [==============================] - 6s 106us/step - loss: 0.4079 - accuracy: 0.8392 - val_loss: 8.4500 - val_accuracy: 0.2745\n",
      "Epoch 4/200\n",
      "54000/54000 [==============================] - 6s 105us/step - loss: 0.3806 - accuracy: 0.8486 - val_loss: 2.5538 - val_accuracy: 0.3713\n",
      "Epoch 5/200\n",
      "54000/54000 [==============================] - 6s 104us/step - loss: 0.3623 - accuracy: 0.8531 - val_loss: 0.7112 - val_accuracy: 0.7448\n",
      "Epoch 6/200\n",
      "54000/54000 [==============================] - 6s 105us/step - loss: 0.3287 - accuracy: 0.8661 - val_loss: 0.4278 - val_accuracy: 0.8320\n",
      "Epoch 7/200\n",
      "54000/54000 [==============================] - 6s 105us/step - loss: 0.3241 - accuracy: 0.8700 - val_loss: 0.3847 - val_accuracy: 0.8475\n",
      "Epoch 8/200\n",
      "54000/54000 [==============================] - 6s 106us/step - loss: 0.3007 - accuracy: 0.8759 - val_loss: 1.5178 - val_accuracy: 0.6165\n",
      "Epoch 9/200\n",
      "54000/54000 [==============================] - 6s 107us/step - loss: 0.3008 - accuracy: 0.8772 - val_loss: 0.6621 - val_accuracy: 0.7652\n",
      "Epoch 10/200\n",
      "54000/54000 [==============================] - 6s 106us/step - loss: 0.2876 - accuracy: 0.8820 - val_loss: 0.2932 - val_accuracy: 0.8825\n",
      "Epoch 11/200\n",
      "54000/54000 [==============================] - 6s 107us/step - loss: 0.2916 - accuracy: 0.8798 - val_loss: 0.2802 - val_accuracy: 0.8917\n",
      "Epoch 12/200\n",
      "54000/54000 [==============================] - 6s 108us/step - loss: 0.2766 - accuracy: 0.8867 - val_loss: 0.3846 - val_accuracy: 0.8495\n",
      "Epoch 13/200\n",
      "54000/54000 [==============================] - 6s 107us/step - loss: 0.2715 - accuracy: 0.8894 - val_loss: 0.6873 - val_accuracy: 0.7658\n",
      "Epoch 14/200\n",
      "54000/54000 [==============================] - 6s 106us/step - loss: 0.2712 - accuracy: 0.8882 - val_loss: 0.2546 - val_accuracy: 0.9022\n",
      "Epoch 15/200\n",
      "54000/54000 [==============================] - 6s 106us/step - loss: 0.2622 - accuracy: 0.8927 - val_loss: 0.4775 - val_accuracy: 0.8210\n",
      "Epoch 16/200\n",
      "54000/54000 [==============================] - 6s 108us/step - loss: 0.2575 - accuracy: 0.8946 - val_loss: 0.3063 - val_accuracy: 0.8763\n",
      "Epoch 17/200\n",
      "54000/54000 [==============================] - 6s 106us/step - loss: 0.2537 - accuracy: 0.8965 - val_loss: 0.3425 - val_accuracy: 0.8632\n",
      "Epoch 18/200\n",
      "54000/54000 [==============================] - 6s 107us/step - loss: 0.2486 - accuracy: 0.8979 - val_loss: 0.3099 - val_accuracy: 0.8773\n",
      "Epoch 19/200\n",
      "54000/54000 [==============================] - 6s 108us/step - loss: 0.2538 - accuracy: 0.8964 - val_loss: 0.2608 - val_accuracy: 0.8925\n",
      "Epoch 20/200\n",
      "54000/54000 [==============================] - 6s 107us/step - loss: 0.2429 - accuracy: 0.8985 - val_loss: 0.3523 - val_accuracy: 0.8618\n",
      "Epoch 21/200\n",
      "54000/54000 [==============================] - 6s 106us/step - loss: 0.2424 - accuracy: 0.9011 - val_loss: 0.5622 - val_accuracy: 0.8058\n",
      "Epoch 22/200\n",
      "54000/54000 [==============================] - 6s 107us/step - loss: 0.2314 - accuracy: 0.9049 - val_loss: 0.2561 - val_accuracy: 0.8983\n",
      "Epoch 23/200\n",
      "54000/54000 [==============================] - 6s 107us/step - loss: 0.2329 - accuracy: 0.9047 - val_loss: 0.3944 - val_accuracy: 0.8520\n",
      "Epoch 24/200\n",
      "54000/54000 [==============================] - 6s 107us/step - loss: 0.2373 - accuracy: 0.9025 - val_loss: 0.3335 - val_accuracy: 0.8670\n",
      "Epoch 25/200\n",
      "54000/54000 [==============================] - 6s 107us/step - loss: 0.2218 - accuracy: 0.9090 - val_loss: 0.3901 - val_accuracy: 0.8522\n",
      "Epoch 26/200\n",
      "54000/54000 [==============================] - 6s 107us/step - loss: 0.2217 - accuracy: 0.9088 - val_loss: 0.2689 - val_accuracy: 0.8970\n",
      "Epoch 27/200\n",
      "54000/54000 [==============================] - 6s 107us/step - loss: 0.2203 - accuracy: 0.9092 - val_loss: 0.2549 - val_accuracy: 0.9003\n",
      "Epoch 28/200\n",
      "54000/54000 [==============================] - 6s 106us/step - loss: 0.2082 - accuracy: 0.9141 - val_loss: 0.2761 - val_accuracy: 0.8910\n",
      "Epoch 29/200\n",
      "54000/54000 [==============================] - 6s 106us/step - loss: 0.2097 - accuracy: 0.9130 - val_loss: 0.3816 - val_accuracy: 0.8632\n",
      "Epoch 30/200\n",
      "54000/54000 [==============================] - 6s 106us/step - loss: 0.2022 - accuracy: 0.9175 - val_loss: 0.6739 - val_accuracy: 0.7930\n",
      "Epoch 31/200\n",
      "54000/54000 [==============================] - 6s 107us/step - loss: 0.2088 - accuracy: 0.9146 - val_loss: 0.3783 - val_accuracy: 0.8603\n",
      "Epoch 32/200\n",
      "54000/54000 [==============================] - 6s 107us/step - loss: 0.2016 - accuracy: 0.9196 - val_loss: 0.2760 - val_accuracy: 0.9007\n",
      "Epoch 33/200\n",
      "54000/54000 [==============================] - 6s 106us/step - loss: 0.1987 - accuracy: 0.9191 - val_loss: 0.2746 - val_accuracy: 0.9002\n",
      "Epoch 34/200\n",
      "54000/54000 [==============================] - 6s 106us/step - loss: 0.2031 - accuracy: 0.9164 - val_loss: 0.7325 - val_accuracy: 0.7857\n",
      "Epoch 35/200\n",
      "54000/54000 [==============================] - 6s 106us/step - loss: 0.2038 - accuracy: 0.9159 - val_loss: 0.2670 - val_accuracy: 0.8988\n",
      "Epoch 36/200\n",
      "54000/54000 [==============================] - 6s 107us/step - loss: 0.1986 - accuracy: 0.9186 - val_loss: 0.2924 - val_accuracy: 0.8887\n",
      "Epoch 37/200\n",
      "54000/54000 [==============================] - 6s 107us/step - loss: 0.1886 - accuracy: 0.9228 - val_loss: 0.2258 - val_accuracy: 0.9143\n",
      "Epoch 38/200\n",
      "54000/54000 [==============================] - 6s 106us/step - loss: 0.1875 - accuracy: 0.9247 - val_loss: 0.2605 - val_accuracy: 0.9033\n",
      "Epoch 39/200\n",
      "54000/54000 [==============================] - 6s 107us/step - loss: 0.1868 - accuracy: 0.9242 - val_loss: 0.2956 - val_accuracy: 0.8857\n",
      "Epoch 40/200\n",
      "54000/54000 [==============================] - 6s 107us/step - loss: 0.1867 - accuracy: 0.9246 - val_loss: 0.2381 - val_accuracy: 0.9100\n",
      "Epoch 41/200\n",
      "54000/54000 [==============================] - 6s 106us/step - loss: 0.1843 - accuracy: 0.9249 - val_loss: 0.3721 - val_accuracy: 0.8672\n",
      "Epoch 42/200\n",
      "54000/54000 [==============================] - 6s 106us/step - loss: 0.1773 - accuracy: 0.9283 - val_loss: 0.3178 - val_accuracy: 0.8847\n",
      "Epoch 43/200\n",
      "54000/54000 [==============================] - 6s 106us/step - loss: 0.1786 - accuracy: 0.9272 - val_loss: 0.2831 - val_accuracy: 0.8923\n",
      "Epoch 44/200\n",
      "54000/54000 [==============================] - 6s 106us/step - loss: 0.1740 - accuracy: 0.9291 - val_loss: 0.2867 - val_accuracy: 0.8963\n",
      "Epoch 45/200\n",
      "54000/54000 [==============================] - 6s 107us/step - loss: 0.1684 - accuracy: 0.9320 - val_loss: 0.2935 - val_accuracy: 0.8905\n",
      "Epoch 46/200\n",
      "54000/54000 [==============================] - 6s 107us/step - loss: 0.1670 - accuracy: 0.9313 - val_loss: 0.2368 - val_accuracy: 0.9188\n",
      "Epoch 47/200\n",
      "54000/54000 [==============================] - 6s 107us/step - loss: 0.1741 - accuracy: 0.9286 - val_loss: 0.2988 - val_accuracy: 0.8918\n",
      "Epoch 48/200\n",
      "54000/54000 [==============================] - 6s 107us/step - loss: 0.1773 - accuracy: 0.9289 - val_loss: 0.3766 - val_accuracy: 0.8665\n",
      "Epoch 49/200\n",
      "54000/54000 [==============================] - 6s 107us/step - loss: 0.1695 - accuracy: 0.9319 - val_loss: 0.2710 - val_accuracy: 0.9023\n",
      "Epoch 50/200\n",
      "54000/54000 [==============================] - 6s 107us/step - loss: 0.1632 - accuracy: 0.9341 - val_loss: 0.2575 - val_accuracy: 0.9043\n",
      "Epoch 51/200\n",
      "54000/54000 [==============================] - 6s 107us/step - loss: 0.1654 - accuracy: 0.9322 - val_loss: 0.2362 - val_accuracy: 0.9162\n",
      "Epoch 52/200\n",
      "54000/54000 [==============================] - 6s 106us/step - loss: 0.1608 - accuracy: 0.9340 - val_loss: 0.2628 - val_accuracy: 0.9057\n",
      "Epoch 53/200\n",
      "54000/54000 [==============================] - 6s 106us/step - loss: 0.1606 - accuracy: 0.9339 - val_loss: 0.3254 - val_accuracy: 0.8838\n",
      "Epoch 54/200\n",
      "54000/54000 [==============================] - 6s 107us/step - loss: 0.1587 - accuracy: 0.9360 - val_loss: 0.3301 - val_accuracy: 0.8820\n",
      "Epoch 55/200\n",
      "54000/54000 [==============================] - 6s 106us/step - loss: 0.1596 - accuracy: 0.9365 - val_loss: 0.2905 - val_accuracy: 0.8987\n",
      "Epoch 56/200\n",
      "54000/54000 [==============================] - 6s 107us/step - loss: 0.1543 - accuracy: 0.9366 - val_loss: 0.2699 - val_accuracy: 0.9045\n",
      "Epoch 57/200\n",
      "54000/54000 [==============================] - 6s 108us/step - loss: 0.1544 - accuracy: 0.9376 - val_loss: 0.2458 - val_accuracy: 0.9115\n",
      "Epoch 58/200\n",
      "54000/54000 [==============================] - 6s 107us/step - loss: 0.1528 - accuracy: 0.9382 - val_loss: 0.4082 - val_accuracy: 0.8638\n",
      "Epoch 59/200\n",
      "54000/54000 [==============================] - 6s 107us/step - loss: 0.1528 - accuracy: 0.9380 - val_loss: 0.2551 - val_accuracy: 0.9085\n",
      "Epoch 60/200\n",
      "54000/54000 [==============================] - 6s 107us/step - loss: 0.1587 - accuracy: 0.9361 - val_loss: 0.2586 - val_accuracy: 0.9095\n",
      "Epoch 61/200\n",
      "54000/54000 [==============================] - 6s 106us/step - loss: 0.1470 - accuracy: 0.9403 - val_loss: 0.3061 - val_accuracy: 0.8938\n",
      "Epoch 62/200\n",
      "54000/54000 [==============================] - 6s 106us/step - loss: 0.1452 - accuracy: 0.9410 - val_loss: 0.2672 - val_accuracy: 0.9043\n",
      "Epoch 63/200\n",
      "54000/54000 [==============================] - 6s 106us/step - loss: 0.1454 - accuracy: 0.9409 - val_loss: 0.2626 - val_accuracy: 0.9108\n",
      "Epoch 64/200\n",
      "54000/54000 [==============================] - 6s 106us/step - loss: 0.1447 - accuracy: 0.9417 - val_loss: 0.3179 - val_accuracy: 0.8897\n",
      "Epoch 65/200\n",
      "54000/54000 [==============================] - 6s 106us/step - loss: 0.1470 - accuracy: 0.9421 - val_loss: 0.2597 - val_accuracy: 0.9063\n",
      "Epoch 66/200\n",
      "54000/54000 [==============================] - 6s 106us/step - loss: 0.1396 - accuracy: 0.9442 - val_loss: 0.2690 - val_accuracy: 0.9052\n",
      "Epoch 67/200\n",
      "54000/54000 [==============================] - 6s 106us/step - loss: 0.1418 - accuracy: 0.9432 - val_loss: 0.2623 - val_accuracy: 0.9100\n",
      "Epoch 68/200\n",
      "54000/54000 [==============================] - 6s 107us/step - loss: 0.1392 - accuracy: 0.9447 - val_loss: 0.2491 - val_accuracy: 0.9133\n",
      "Epoch 69/200\n",
      "54000/54000 [==============================] - 6s 107us/step - loss: 0.1356 - accuracy: 0.9463 - val_loss: 0.2497 - val_accuracy: 0.9140\n",
      "Epoch 70/200\n",
      "54000/54000 [==============================] - 6s 107us/step - loss: 0.1345 - accuracy: 0.9464 - val_loss: 0.2643 - val_accuracy: 0.9137\n",
      "Epoch 71/200\n",
      "54000/54000 [==============================] - 6s 106us/step - loss: 0.1319 - accuracy: 0.9470 - val_loss: 0.2711 - val_accuracy: 0.9062\n",
      "Epoch 72/200\n",
      "54000/54000 [==============================] - 6s 106us/step - loss: 0.1315 - accuracy: 0.9478 - val_loss: 0.3149 - val_accuracy: 0.8948\n",
      "Epoch 73/200\n",
      "54000/54000 [==============================] - 6s 106us/step - loss: 0.1318 - accuracy: 0.9469 - val_loss: 0.2765 - val_accuracy: 0.9125\n",
      "Epoch 74/200\n",
      "54000/54000 [==============================] - 6s 106us/step - loss: 0.1375 - accuracy: 0.9451 - val_loss: 0.2997 - val_accuracy: 0.9023\n",
      "Epoch 75/200\n",
      "54000/54000 [==============================] - 6s 106us/step - loss: 0.1293 - accuracy: 0.9487 - val_loss: 0.2698 - val_accuracy: 0.9107\n",
      "Epoch 76/200\n",
      "54000/54000 [==============================] - 6s 106us/step - loss: 0.1388 - accuracy: 0.9441 - val_loss: 0.2770 - val_accuracy: 0.9080\n",
      "Epoch 77/200\n",
      "54000/54000 [==============================] - 6s 107us/step - loss: 0.1283 - accuracy: 0.9487 - val_loss: 0.2530 - val_accuracy: 0.9157\n",
      "Epoch 78/200\n",
      "54000/54000 [==============================] - 6s 107us/step - loss: 0.1396 - accuracy: 0.9432 - val_loss: 0.4899 - val_accuracy: 0.8538\n",
      "Epoch 79/200\n",
      "54000/54000 [==============================] - 6s 107us/step - loss: 0.1272 - accuracy: 0.9496 - val_loss: 0.2728 - val_accuracy: 0.9092\n",
      "Epoch 80/200\n",
      "54000/54000 [==============================] - 6s 106us/step - loss: 0.1254 - accuracy: 0.9510 - val_loss: 0.2783 - val_accuracy: 0.9107\n",
      "Epoch 81/200\n",
      "54000/54000 [==============================] - 6s 106us/step - loss: 0.1285 - accuracy: 0.9488 - val_loss: 0.3180 - val_accuracy: 0.9030\n",
      "Epoch 82/200\n",
      "54000/54000 [==============================] - 6s 106us/step - loss: 0.1231 - accuracy: 0.9507 - val_loss: 0.2769 - val_accuracy: 0.9122\n",
      "Epoch 83/200\n",
      "54000/54000 [==============================] - 6s 106us/step - loss: 0.1165 - accuracy: 0.9533 - val_loss: 0.2608 - val_accuracy: 0.9158\n",
      "Epoch 84/200\n",
      "54000/54000 [==============================] - 6s 107us/step - loss: 0.1221 - accuracy: 0.9514 - val_loss: 0.2710 - val_accuracy: 0.9152\n",
      "Epoch 85/200\n",
      "54000/54000 [==============================] - 6s 107us/step - loss: 0.1232 - accuracy: 0.9508 - val_loss: 0.4080 - val_accuracy: 0.8728\n",
      "Epoch 86/200\n",
      "54000/54000 [==============================] - 6s 107us/step - loss: 0.1262 - accuracy: 0.9496 - val_loss: 0.3059 - val_accuracy: 0.9033\n",
      "Epoch 87/200\n",
      "54000/54000 [==============================] - 6s 107us/step - loss: 0.1228 - accuracy: 0.9502 - val_loss: 0.2823 - val_accuracy: 0.9120\n",
      "Epoch 88/200\n",
      "54000/54000 [==============================] - 6s 106us/step - loss: 0.1198 - accuracy: 0.9525 - val_loss: 0.4675 - val_accuracy: 0.8660\n",
      "Epoch 89/200\n",
      "54000/54000 [==============================] - 6s 106us/step - loss: 0.1201 - accuracy: 0.9503 - val_loss: 0.2923 - val_accuracy: 0.9090\n",
      "Epoch 90/200\n",
      "54000/54000 [==============================] - 6s 106us/step - loss: 0.1165 - accuracy: 0.9536 - val_loss: 0.3025 - val_accuracy: 0.9060\n",
      "Epoch 91/200\n",
      "54000/54000 [==============================] - 6s 105us/step - loss: 0.1186 - accuracy: 0.9526 - val_loss: 0.2687 - val_accuracy: 0.9158\n",
      "Epoch 92/200\n",
      "54000/54000 [==============================] - 6s 106us/step - loss: 0.1148 - accuracy: 0.9552 - val_loss: 0.3795 - val_accuracy: 0.8830\n",
      "Epoch 93/200\n",
      "54000/54000 [==============================] - 6s 106us/step - loss: 0.1149 - accuracy: 0.9551 - val_loss: 0.3430 - val_accuracy: 0.8957\n",
      "Epoch 94/200\n",
      "54000/54000 [==============================] - 6s 107us/step - loss: 0.1122 - accuracy: 0.9548 - val_loss: 0.4000 - val_accuracy: 0.8808\n",
      "Epoch 95/200\n",
      "54000/54000 [==============================] - 6s 106us/step - loss: 0.1145 - accuracy: 0.9547 - val_loss: 0.3140 - val_accuracy: 0.9058\n",
      "Epoch 96/200\n",
      "54000/54000 [==============================] - 6s 106us/step - loss: 0.1097 - accuracy: 0.9570 - val_loss: 0.3074 - val_accuracy: 0.9065\n",
      "Epoch 97/200\n",
      "54000/54000 [==============================] - 6s 107us/step - loss: 0.1104 - accuracy: 0.9557 - val_loss: 0.2983 - val_accuracy: 0.9102\n",
      "Epoch 98/200\n",
      "54000/54000 [==============================] - 6s 106us/step - loss: 0.1157 - accuracy: 0.9531 - val_loss: 0.3251 - val_accuracy: 0.8978\n",
      "Epoch 99/200\n",
      "54000/54000 [==============================] - 6s 106us/step - loss: 0.1106 - accuracy: 0.9562 - val_loss: 0.2860 - val_accuracy: 0.9123\n",
      "Epoch 100/200\n",
      "54000/54000 [==============================] - 6s 106us/step - loss: 0.1100 - accuracy: 0.9570 - val_loss: 0.3607 - val_accuracy: 0.8937\n",
      "Epoch 101/200\n",
      "54000/54000 [==============================] - 6s 106us/step - loss: 0.1120 - accuracy: 0.9557 - val_loss: 0.3186 - val_accuracy: 0.9027\n",
      "Epoch 102/200\n",
      "54000/54000 [==============================] - 6s 107us/step - loss: 0.1080 - accuracy: 0.9572 - val_loss: 0.4002 - val_accuracy: 0.8808\n",
      "Epoch 103/200\n",
      "54000/54000 [==============================] - 6s 106us/step - loss: 0.1054 - accuracy: 0.9591 - val_loss: 0.2982 - val_accuracy: 0.9027\n",
      "Epoch 104/200\n",
      "54000/54000 [==============================] - 6s 106us/step - loss: 0.1014 - accuracy: 0.9591 - val_loss: 0.3677 - val_accuracy: 0.8892\n",
      "Epoch 105/200\n",
      "54000/54000 [==============================] - 6s 106us/step - loss: 0.1136 - accuracy: 0.9559 - val_loss: 0.4497 - val_accuracy: 0.8693\n",
      "Epoch 106/200\n",
      "54000/54000 [==============================] - 6s 106us/step - loss: 0.1100 - accuracy: 0.9571 - val_loss: 0.2941 - val_accuracy: 0.9132\n",
      "Epoch 107/200\n",
      "54000/54000 [==============================] - 6s 105us/step - loss: 0.1094 - accuracy: 0.9566 - val_loss: 0.3436 - val_accuracy: 0.8933\n",
      "Epoch 108/200\n",
      "54000/54000 [==============================] - 6s 105us/step - loss: 0.1053 - accuracy: 0.9589 - val_loss: 0.3071 - val_accuracy: 0.9050\n",
      "Epoch 109/200\n",
      "54000/54000 [==============================] - 6s 106us/step - loss: 0.1020 - accuracy: 0.9602 - val_loss: 0.3524 - val_accuracy: 0.8957\n",
      "Epoch 110/200\n",
      "54000/54000 [==============================] - 6s 106us/step - loss: 0.1074 - accuracy: 0.9571 - val_loss: 0.3191 - val_accuracy: 0.9027\n",
      "Epoch 111/200\n",
      "54000/54000 [==============================] - 6s 107us/step - loss: 0.0971 - accuracy: 0.9627 - val_loss: 0.6532 - val_accuracy: 0.8452\n",
      "Epoch 112/200\n",
      "54000/54000 [==============================] - 6s 105us/step - loss: 0.1090 - accuracy: 0.9570 - val_loss: 0.3100 - val_accuracy: 0.9088\n",
      "Epoch 113/200\n",
      "54000/54000 [==============================] - 6s 106us/step - loss: 0.1054 - accuracy: 0.9578 - val_loss: 0.4421 - val_accuracy: 0.8762\n",
      "Epoch 114/200\n",
      "54000/54000 [==============================] - 6s 106us/step - loss: 0.1001 - accuracy: 0.9601 - val_loss: 0.4071 - val_accuracy: 0.8852\n",
      "Epoch 115/200\n",
      "54000/54000 [==============================] - 6s 106us/step - loss: 0.1071 - accuracy: 0.9580 - val_loss: 0.2905 - val_accuracy: 0.9140\n",
      "Epoch 116/200\n",
      "54000/54000 [==============================] - 6s 105us/step - loss: 0.0906 - accuracy: 0.9639 - val_loss: 0.4023 - val_accuracy: 0.8842\n",
      "Epoch 117/200\n",
      "54000/54000 [==============================] - 6s 105us/step - loss: 0.0981 - accuracy: 0.9616 - val_loss: 0.3047 - val_accuracy: 0.9118\n",
      "Epoch 118/200\n",
      "54000/54000 [==============================] - 6s 105us/step - loss: 0.0986 - accuracy: 0.9609 - val_loss: 0.3124 - val_accuracy: 0.9105\n",
      "Epoch 119/200\n",
      "54000/54000 [==============================] - 6s 106us/step - loss: 0.0995 - accuracy: 0.9607 - val_loss: 0.3746 - val_accuracy: 0.8900\n",
      "Epoch 120/200\n",
      "54000/54000 [==============================] - 6s 106us/step - loss: 0.0964 - accuracy: 0.9621 - val_loss: 0.4331 - val_accuracy: 0.8760\n",
      "Epoch 121/200\n",
      "54000/54000 [==============================] - 6s 106us/step - loss: 0.1008 - accuracy: 0.9611 - val_loss: 0.3207 - val_accuracy: 0.9072\n",
      "Epoch 122/200\n",
      "54000/54000 [==============================] - 6s 107us/step - loss: 0.1055 - accuracy: 0.9589 - val_loss: 0.3155 - val_accuracy: 0.9037\n",
      "Epoch 123/200\n",
      "54000/54000 [==============================] - 6s 106us/step - loss: 0.0912 - accuracy: 0.9651 - val_loss: 0.3732 - val_accuracy: 0.8912\n",
      "Epoch 124/200\n",
      "54000/54000 [==============================] - 6s 106us/step - loss: 0.0934 - accuracy: 0.9631 - val_loss: 0.4414 - val_accuracy: 0.8783\n",
      "Epoch 125/200\n",
      "54000/54000 [==============================] - 6s 106us/step - loss: 0.0983 - accuracy: 0.9611 - val_loss: 0.3295 - val_accuracy: 0.9012\n",
      "Epoch 126/200\n",
      "54000/54000 [==============================] - 6s 106us/step - loss: 0.0936 - accuracy: 0.9638 - val_loss: 0.4251 - val_accuracy: 0.8775\n",
      "Epoch 127/200\n",
      "54000/54000 [==============================] - 6s 106us/step - loss: 0.0929 - accuracy: 0.9638 - val_loss: 0.4494 - val_accuracy: 0.8737\n",
      "Epoch 128/200\n",
      "54000/54000 [==============================] - 6s 106us/step - loss: 0.0948 - accuracy: 0.9633 - val_loss: 0.3479 - val_accuracy: 0.8993\n",
      "Epoch 129/200\n",
      "54000/54000 [==============================] - 6s 106us/step - loss: 0.0963 - accuracy: 0.9624 - val_loss: 0.3315 - val_accuracy: 0.9060\n",
      "Epoch 130/200\n",
      "54000/54000 [==============================] - 6s 106us/step - loss: 0.0881 - accuracy: 0.9658 - val_loss: 0.3209 - val_accuracy: 0.9113\n",
      "Epoch 131/200\n",
      "54000/54000 [==============================] - 6s 106us/step - loss: 0.0922 - accuracy: 0.9647 - val_loss: 0.3273 - val_accuracy: 0.9063\n",
      "Epoch 132/200\n",
      "54000/54000 [==============================] - 6s 107us/step - loss: 0.0901 - accuracy: 0.9641 - val_loss: 0.3136 - val_accuracy: 0.9127\n",
      "Epoch 133/200\n",
      "54000/54000 [==============================] - 6s 106us/step - loss: 0.0879 - accuracy: 0.9656 - val_loss: 0.4068 - val_accuracy: 0.8865\n",
      "Epoch 134/200\n",
      "54000/54000 [==============================] - 6s 106us/step - loss: 0.0872 - accuracy: 0.9657 - val_loss: 0.3179 - val_accuracy: 0.9045\n",
      "Epoch 135/200\n",
      "54000/54000 [==============================] - 6s 106us/step - loss: 0.0858 - accuracy: 0.9665 - val_loss: 0.4137 - val_accuracy: 0.8830\n",
      "Epoch 136/200\n",
      "54000/54000 [==============================] - 6s 105us/step - loss: 0.0904 - accuracy: 0.9641 - val_loss: 0.6385 - val_accuracy: 0.8512\n",
      "Epoch 137/200\n",
      "54000/54000 [==============================] - 6s 106us/step - loss: 0.0919 - accuracy: 0.9641 - val_loss: 0.3487 - val_accuracy: 0.9018\n",
      "Epoch 138/200\n",
      "54000/54000 [==============================] - 6s 105us/step - loss: 0.0926 - accuracy: 0.9642 - val_loss: 0.3672 - val_accuracy: 0.8960\n",
      "Epoch 139/200\n",
      "54000/54000 [==============================] - 6s 106us/step - loss: 0.0867 - accuracy: 0.9658 - val_loss: 0.3868 - val_accuracy: 0.8935\n",
      "Epoch 140/200\n",
      "54000/54000 [==============================] - 6s 106us/step - loss: 0.0856 - accuracy: 0.9662 - val_loss: 0.3251 - val_accuracy: 0.9068\n",
      "Epoch 141/200\n",
      "54000/54000 [==============================] - 6s 106us/step - loss: 0.0894 - accuracy: 0.9653 - val_loss: 0.3464 - val_accuracy: 0.9047\n",
      "Epoch 142/200\n",
      "54000/54000 [==============================] - 6s 106us/step - loss: 0.0827 - accuracy: 0.9684 - val_loss: 0.4224 - val_accuracy: 0.8858\n",
      "Epoch 143/200\n",
      "54000/54000 [==============================] - 6s 106us/step - loss: 0.0837 - accuracy: 0.9671 - val_loss: 0.3544 - val_accuracy: 0.9022\n",
      "Epoch 144/200\n",
      "54000/54000 [==============================] - 6s 105us/step - loss: 0.0857 - accuracy: 0.9670 - val_loss: 0.3509 - val_accuracy: 0.9060\n",
      "Epoch 145/200\n",
      "54000/54000 [==============================] - 6s 105us/step - loss: 0.0825 - accuracy: 0.9683 - val_loss: 0.3240 - val_accuracy: 0.9108\n",
      "Epoch 146/200\n",
      "54000/54000 [==============================] - 6s 105us/step - loss: 0.0860 - accuracy: 0.9662 - val_loss: 0.3533 - val_accuracy: 0.8977\n",
      "Epoch 147/200\n",
      "54000/54000 [==============================] - 6s 106us/step - loss: 0.0894 - accuracy: 0.9649 - val_loss: 0.3445 - val_accuracy: 0.9065\n",
      "Epoch 148/200\n",
      "54000/54000 [==============================] - 6s 105us/step - loss: 0.0820 - accuracy: 0.9679 - val_loss: 0.3130 - val_accuracy: 0.9135\n",
      "Epoch 149/200\n",
      "54000/54000 [==============================] - 6s 106us/step - loss: 0.0839 - accuracy: 0.9667 - val_loss: 0.3993 - val_accuracy: 0.8930\n",
      "Epoch 150/200\n",
      "54000/54000 [==============================] - 6s 106us/step - loss: 0.0835 - accuracy: 0.9674 - val_loss: 0.3205 - val_accuracy: 0.9132\n",
      "Epoch 151/200\n",
      "54000/54000 [==============================] - 6s 106us/step - loss: 0.0812 - accuracy: 0.9683 - val_loss: 0.4905 - val_accuracy: 0.8800\n",
      "Epoch 152/200\n",
      "54000/54000 [==============================] - 6s 106us/step - loss: 0.0802 - accuracy: 0.9693 - val_loss: 0.3756 - val_accuracy: 0.8975\n",
      "Epoch 153/200\n",
      "54000/54000 [==============================] - 6s 107us/step - loss: 0.0803 - accuracy: 0.9681 - val_loss: 0.3481 - val_accuracy: 0.9045\n",
      "Epoch 154/200\n",
      "54000/54000 [==============================] - 6s 106us/step - loss: 0.0857 - accuracy: 0.9668 - val_loss: 0.3336 - val_accuracy: 0.9075\n",
      "Epoch 155/200\n",
      "54000/54000 [==============================] - 6s 105us/step - loss: 0.0814 - accuracy: 0.9688 - val_loss: 0.3810 - val_accuracy: 0.8945\n",
      "Epoch 156/200\n",
      "54000/54000 [==============================] - 6s 106us/step - loss: 0.0783 - accuracy: 0.9697 - val_loss: 0.4347 - val_accuracy: 0.8892\n",
      "Epoch 157/200\n",
      "54000/54000 [==============================] - 6s 106us/step - loss: 0.0855 - accuracy: 0.9670 - val_loss: 0.3354 - val_accuracy: 0.9083\n",
      "Epoch 158/200\n",
      "54000/54000 [==============================] - 6s 106us/step - loss: 0.0770 - accuracy: 0.9703 - val_loss: 0.3370 - val_accuracy: 0.9100\n",
      "Epoch 159/200\n",
      "54000/54000 [==============================] - 6s 106us/step - loss: 0.0797 - accuracy: 0.9691 - val_loss: 0.4375 - val_accuracy: 0.8847\n",
      "Epoch 160/200\n",
      "54000/54000 [==============================] - 6s 107us/step - loss: 0.0813 - accuracy: 0.9684 - val_loss: 0.9588 - val_accuracy: 0.8172\n",
      "Epoch 161/200\n",
      "54000/54000 [==============================] - 6s 106us/step - loss: 0.0805 - accuracy: 0.9690 - val_loss: 0.3399 - val_accuracy: 0.9145\n",
      "Epoch 162/200\n",
      "54000/54000 [==============================] - 6s 106us/step - loss: 0.0765 - accuracy: 0.9709 - val_loss: 0.5744 - val_accuracy: 0.8590\n",
      "Epoch 163/200\n",
      "54000/54000 [==============================] - 6s 107us/step - loss: 0.0790 - accuracy: 0.9690 - val_loss: 0.3449 - val_accuracy: 0.9073\n",
      "Epoch 164/200\n",
      "54000/54000 [==============================] - 6s 107us/step - loss: 0.0798 - accuracy: 0.9691 - val_loss: 0.3846 - val_accuracy: 0.8983\n",
      "Epoch 165/200\n",
      "54000/54000 [==============================] - 6s 106us/step - loss: 0.0741 - accuracy: 0.9705 - val_loss: 0.3263 - val_accuracy: 0.9133\n",
      "Epoch 166/200\n",
      "54000/54000 [==============================] - 6s 105us/step - loss: 0.0774 - accuracy: 0.9694 - val_loss: 0.3227 - val_accuracy: 0.9127\n",
      "Epoch 167/200\n",
      "54000/54000 [==============================] - 6s 105us/step - loss: 0.0760 - accuracy: 0.9701 - val_loss: 0.3228 - val_accuracy: 0.9117\n",
      "Epoch 168/200\n",
      "54000/54000 [==============================] - 6s 105us/step - loss: 0.0751 - accuracy: 0.9703 - val_loss: 0.3354 - val_accuracy: 0.9093\n",
      "Epoch 169/200\n",
      "54000/54000 [==============================] - 6s 105us/step - loss: 0.0785 - accuracy: 0.9689 - val_loss: 0.3800 - val_accuracy: 0.9010\n",
      "Epoch 170/200\n",
      "54000/54000 [==============================] - 6s 105us/step - loss: 0.0779 - accuracy: 0.9707 - val_loss: 0.4635 - val_accuracy: 0.8825\n",
      "Epoch 171/200\n",
      "54000/54000 [==============================] - 6s 105us/step - loss: 0.0745 - accuracy: 0.9710 - val_loss: 0.3699 - val_accuracy: 0.9112\n",
      "Epoch 172/200\n",
      "54000/54000 [==============================] - 6s 105us/step - loss: 0.0747 - accuracy: 0.9712 - val_loss: 0.6053 - val_accuracy: 0.8553\n",
      "Epoch 173/200\n",
      "54000/54000 [==============================] - 6s 104us/step - loss: 0.0773 - accuracy: 0.9698 - val_loss: 0.4946 - val_accuracy: 0.8770\n",
      "Epoch 174/200\n",
      "54000/54000 [==============================] - 6s 105us/step - loss: 0.0692 - accuracy: 0.9739 - val_loss: 0.4157 - val_accuracy: 0.8948\n",
      "Epoch 175/200\n",
      "54000/54000 [==============================] - 6s 105us/step - loss: 0.0867 - accuracy: 0.9664 - val_loss: 0.3230 - val_accuracy: 0.9105\n",
      "Epoch 176/200\n",
      "54000/54000 [==============================] - 6s 105us/step - loss: 0.0737 - accuracy: 0.9729 - val_loss: 0.5338 - val_accuracy: 0.8710\n",
      "Epoch 177/200\n",
      "54000/54000 [==============================] - 6s 105us/step - loss: 0.0755 - accuracy: 0.9708 - val_loss: 0.5418 - val_accuracy: 0.8650\n",
      "Epoch 178/200\n",
      "54000/54000 [==============================] - 6s 105us/step - loss: 0.0740 - accuracy: 0.9717 - val_loss: 0.3347 - val_accuracy: 0.9065\n",
      "Epoch 179/200\n",
      "54000/54000 [==============================] - 6s 105us/step - loss: 0.0718 - accuracy: 0.9725 - val_loss: 0.3368 - val_accuracy: 0.9135\n",
      "Epoch 180/200\n",
      "54000/54000 [==============================] - 6s 105us/step - loss: 0.0789 - accuracy: 0.9693 - val_loss: 0.4577 - val_accuracy: 0.8767\n",
      "Epoch 181/200\n",
      "54000/54000 [==============================] - 6s 104us/step - loss: 0.0691 - accuracy: 0.9739 - val_loss: 0.3420 - val_accuracy: 0.9145\n",
      "Epoch 182/200\n",
      "54000/54000 [==============================] - 6s 105us/step - loss: 0.0714 - accuracy: 0.9720 - val_loss: 0.3429 - val_accuracy: 0.9138\n",
      "Epoch 183/200\n",
      "54000/54000 [==============================] - 6s 104us/step - loss: 0.0716 - accuracy: 0.9726 - val_loss: 0.4036 - val_accuracy: 0.8953\n",
      "Epoch 184/200\n",
      "54000/54000 [==============================] - 6s 104us/step - loss: 0.0641 - accuracy: 0.9759 - val_loss: 0.3959 - val_accuracy: 0.8965\n",
      "Epoch 185/200\n",
      "54000/54000 [==============================] - 6s 105us/step - loss: 0.0754 - accuracy: 0.9715 - val_loss: 0.3362 - val_accuracy: 0.9118\n",
      "Epoch 186/200\n",
      "54000/54000 [==============================] - 6s 105us/step - loss: 0.0690 - accuracy: 0.9739 - val_loss: 0.3797 - val_accuracy: 0.8997\n",
      "Epoch 187/200\n",
      "54000/54000 [==============================] - 6s 104us/step - loss: 0.0720 - accuracy: 0.9725 - val_loss: 0.3915 - val_accuracy: 0.9018\n",
      "Epoch 188/200\n",
      "54000/54000 [==============================] - 6s 105us/step - loss: 0.0718 - accuracy: 0.9729 - val_loss: 0.3757 - val_accuracy: 0.9015\n",
      "Epoch 189/200\n",
      "54000/54000 [==============================] - 6s 105us/step - loss: 0.0743 - accuracy: 0.9718 - val_loss: 0.3722 - val_accuracy: 0.8977\n",
      "Epoch 190/200\n",
      "54000/54000 [==============================] - 6s 105us/step - loss: 0.0710 - accuracy: 0.9731 - val_loss: 0.3599 - val_accuracy: 0.9087\n",
      "Epoch 191/200\n",
      "54000/54000 [==============================] - 6s 105us/step - loss: 0.0666 - accuracy: 0.9744 - val_loss: 0.4187 - val_accuracy: 0.8955\n",
      "Epoch 192/200\n",
      "54000/54000 [==============================] - 6s 104us/step - loss: 0.0656 - accuracy: 0.9746 - val_loss: 0.3397 - val_accuracy: 0.9095\n",
      "Epoch 193/200\n",
      "54000/54000 [==============================] - 6s 104us/step - loss: 0.0719 - accuracy: 0.9723 - val_loss: 0.3728 - val_accuracy: 0.9083\n",
      "Epoch 194/200\n",
      "54000/54000 [==============================] - 6s 104us/step - loss: 0.0698 - accuracy: 0.9736 - val_loss: 0.3767 - val_accuracy: 0.9035\n",
      "Epoch 195/200\n",
      "54000/54000 [==============================] - 6s 104us/step - loss: 0.0747 - accuracy: 0.9707 - val_loss: 0.3593 - val_accuracy: 0.9078\n",
      "Epoch 196/200\n",
      "54000/54000 [==============================] - 6s 104us/step - loss: 0.0684 - accuracy: 0.9744 - val_loss: 0.4283 - val_accuracy: 0.8943\n",
      "Epoch 197/200\n",
      "54000/54000 [==============================] - 6s 104us/step - loss: 0.0656 - accuracy: 0.9746 - val_loss: 0.3771 - val_accuracy: 0.9052\n",
      "Epoch 198/200\n",
      "54000/54000 [==============================] - 6s 104us/step - loss: 0.0702 - accuracy: 0.9730 - val_loss: 0.3970 - val_accuracy: 0.8980\n",
      "Epoch 199/200\n",
      "54000/54000 [==============================] - 6s 105us/step - loss: 0.0651 - accuracy: 0.9747 - val_loss: 0.3692 - val_accuracy: 0.9047\n",
      "Epoch 200/200\n",
      "54000/54000 [==============================] - 6s 105us/step - loss: 0.0691 - accuracy: 0.9737 - val_loss: 0.3529 - val_accuracy: 0.9148\n"
     ]
    }
   ],
   "source": [
    "history = fashion_model.fit(X_train, y_train, batch_size=batch_size,epochs=epochs,verbose=1,validation_data=(X_val, y_val))"
   ]
  },
  {
   "cell_type": "markdown",
   "metadata": {
    "colab_type": "text",
    "id": "nmgno17E1kZN"
   },
   "source": [
    "The runtime of the model was 1200 seconds in total with each iteration taking 6 seconds."
   ]
  },
  {
   "cell_type": "code",
   "execution_count": 0,
   "metadata": {
    "colab": {},
    "colab_type": "code",
    "id": "l4U21VAPtgUa"
   },
   "outputs": [],
   "source": [
    "%%time\n",
    "predict_outcome = fashion_model.predict(X_test)"
   ]
  },
  {
   "cell_type": "code",
   "execution_count": 0,
   "metadata": {
    "colab": {
     "base_uri": "https://localhost:8080/",
     "height": 34
    },
    "colab_type": "code",
    "id": "nBWQ573ft5GC",
    "outputId": "1c494771-86a7-4119-f6f6-ba4dce987811"
   },
   "outputs": [
    {
     "data": {
      "text/plain": [
       "(10000, 5)"
      ]
     },
     "execution_count": 15,
     "metadata": {
      "tags": []
     },
     "output_type": "execute_result"
    }
   ],
   "source": [
    "predict_outcome.shape"
   ]
  },
  {
   "cell_type": "markdown",
   "metadata": {
    "colab_type": "text",
    "id": "hu171VJwsA4h"
   },
   "source": [
    "The runtime for output was 38.9 seconds"
   ]
  },
  {
   "cell_type": "code",
   "execution_count": 0,
   "metadata": {
    "colab": {},
    "colab_type": "code",
    "id": "XQ_9fHPLuNwr"
   },
   "outputs": [],
   "source": [
    "predict_outcome = np.argmax(np.round(predict_outcome),axis=1)"
   ]
  },
  {
   "cell_type": "code",
   "execution_count": 37,
   "metadata": {
    "colab": {
     "base_uri": "https://localhost:8080/",
     "height": 34
    },
    "colab_type": "code",
    "id": "vk0Acw-VucOv",
    "outputId": "22d28431-fb45-447f-f38f-e67ea02b35ce"
   },
   "outputs": [
    {
     "data": {
      "text/plain": [
       "(10000,)"
      ]
     },
     "execution_count": 37,
     "metadata": {
      "tags": []
     },
     "output_type": "execute_result"
    }
   ],
   "source": [
    "predict_outcome.shape"
   ]
  },
  {
   "cell_type": "code",
   "execution_count": 38,
   "metadata": {
    "colab": {
     "base_uri": "https://localhost:8080/",
     "height": 255
    },
    "colab_type": "code",
    "id": "_SgYGTmjusun",
    "outputId": "7750687d-ab77-4b45-e452-b7c24358506f"
   },
   "outputs": [
    {
     "name": "stdout",
     "output_type": "stream",
     "text": [
      "        Id  Label\n",
      "0        0      3\n",
      "1        1      4\n",
      "2        2      0\n",
      "3        3      1\n",
      "4        4      0\n",
      "...    ...    ...\n",
      "9995  9995      1\n",
      "9996  9996      1\n",
      "9997  9997      4\n",
      "9998  9998      2\n",
      "9999  9999      2\n",
      "\n",
      "[10000 rows x 2 columns]\n"
     ]
    }
   ],
   "source": [
    "result = pd.DataFrame((predict_outcome),columns = ['Label'])\n",
    "Id = pd.read_csv('testX.csv')[['Id']]\n",
    "submission = pd.concat([Id,result], axis=1)\n",
    "submission.columns = ['Id', 'Label']\n",
    "submission.to_csv('submission.csv',index=False)\n",
    "\n",
    "print(submission)"
   ]
  },
  {
   "cell_type": "code",
   "execution_count": 39,
   "metadata": {
    "colab": {
     "base_uri": "https://localhost:8080/",
     "height": 590
    },
    "colab_type": "code",
    "id": "jgcxPzX5RAXw",
    "outputId": "32e6dfdd-b7bf-46c7-fc00-47f30c683db3"
   },
   "outputs": [
    {
     "name": "stdout",
     "output_type": "stream",
     "text": [
      "dict_keys(['val_loss', 'val_accuracy', 'loss', 'accuracy'])\n"
     ]
    },
    {
     "data": {
      "image/png": "[encoded data removed]",
      "text/plain": [
       "<Figure size 432x288 with 1 Axes>"
      ]
     },
     "metadata": {
      "needs_background": "light",
      "tags": []
     },
     "output_type": "display_data"
    },
    {
     "data": {
      "image/png": "[encoded data removed]",
      "text/plain": [
       "<Figure size 432x288 with 1 Axes>"
      ]
     },
     "metadata": {
      "needs_background": "light",
      "tags": []
     },
     "output_type": "display_data"
    }
   ],
   "source": [
    "print(history.history.keys())\n",
    "#  \"Accuracy\"\n",
    "plt.plot(history.history['accuracy'])\n",
    "plt.plot(history.history['val_accuracy'])\n",
    "plt.title('model accuracy')\n",
    "plt.ylabel('accuracy')\n",
    "plt.xlabel('epoch')\n",
    "plt.legend(['train', 'validation'], loc='upper left')\n",
    "plt.show()\n",
    "# \"Loss\"\n",
    "plt.plot(history.history['loss'])\n",
    "plt.plot(history.history['val_loss'])\n",
    "plt.title('model loss')\n",
    "plt.ylabel('loss')\n",
    "plt.xlabel('epoch')\n",
    "plt.legend(['train', 'validation'], loc='upper left')\n",
    "plt.show()"
   ]
  },
  {
   "cell_type": "markdown",
   "metadata": {
    "colab_type": "text",
    "id": "vp9Hn34ystw-"
   },
   "source": [
    "The above plot represents the accurracy and loss incurred by the model. The blue line traces the performance of the train model and the orange line represents the performance of the test set. The first plot shows the change in accuracies as the number of iterations increase whereas the second plot shows the dip in loss as the accuracies change.\n",
    "\n",
    "These plots have only been generated for the final set. \n",
    "\n",
    "The kaggle score is 90.720. The score could have further been improved if other deep learning models were implemented due due to other coursework and submissions, I was able to work on improvising CNN model to its max.\n",
    "\n",
    "Questions asked:\n",
    "\n",
    "1. Explanation of Design and implementation of choices of your models - all the models that were considered during the execution of the model have been explained along with the code snippets.\n",
    "\n",
    "2. Implementation of design choices - All the choices that were made have there codes snippets along with explanation.\n",
    "\n",
    "3. Kaggle Competition Score - 90.720%\n",
    "\n",
    "4. Results Analysis:\n",
    "\n",
    "     a. Runtime performance: \n",
    "     Training - 1200 seconds, test prediction - 38.9 seconds.\n",
    "     b. Comparision of different algorithms and parameters: \n",
    "     Different CNN architectures were compared based on the time taken and accuracies of the train and test sets.\n",
    "     Each of the models have been numbered above. Corresponding to each model, the accuracy has been discussed here.\n",
    "     1. model1(leaky relu)         - train(0.85), val(0.76), test(0.72)  ~4sec per step\n",
    "     2. model2(basic with relu)    - train(0.89), val(0.84), test(0.824) ~5sec per step\n",
    "     3. model3(+CNN Layer)         - train(0.92), val(0.86), test(0.846) ~5sec per step\n",
    "     4. model4(+CNN Layer)         - train(0.95), val(0.87), test(0.867) ~5sec per step\n",
    "     5. model5(+Batch Layer)       - train(0.89), val(0.82), test(0.803) ~11sec per step\n",
    "     6. model6(- extra Batch Layer)- train(0.97), val(0.90), test(0.88)  ~6sec per step\n",
    "     7. model7(final model)        - train(0.97), val(0.91), test(0.907) ~6sec per step\n",
    "     \n",
    "     The hyperparameters in the final model were also altered to conclude this result.\n",
    "     For choosing optimizer : When it came to optimizers, many optimizers were tested such as SGD, Adagrad, AdaDelta, RMSProp and Adam. Out of these three, only Adam was able to generate best results because it is an improvisation of all the optimizers it captures momentum as well as properties of RMSProp.\n",
    "     c. Explanation of my model: Stepwise explanation has been done above. Convolution is nothing but weighted sum of pixel values of the image. As we define the size of the sliding window, the convolution calculates the weight over those values under consideration. As the window slides, it convolves the window with the images to generate a new value for the image pixel. Once the values are generated, max pooling is executed. Max pooling is used for reducing the dimensionality of the image. What is does is it picks up the maximum values from the set of values within the window and allocates it as the new value of the reduced dimension. This window keeps on sliding till a new layer with reduced dimensionality is produced. But the layers produced are 3D in nature and for a fully connected network, we need a vector of values. To do that flatten() is used which converts it into a vector. Lastly, Dense layer is a fully connected network just like an ANN. Dropout layers are also added to drop the neurons in the layer i.e. if p=0.5, then 50% of the neurons are dropped. Batch Normalization can also be done. It is another way to regularizer the data.\n",
    "\n",
    "    Hyerparameter tuning is another part that need to be considered while convolving the layers. These are usually generated by testing and trying different values. For example, what kindly of padding shall be done(same is preserved as it borders the outline with same values as the previous layer), what kind of activation function shall be chosen(linear or relu). I tried with linear and later adding a layer of LeakyRelu layer but that hampered the performance of the model, therefore activation function was directly set to relu. Different combinations with dropout were tested as well but setting it equal to 0.5 yielded best results.\n",
    "\n",
    "    Also, the activation function is set to relu as it resolves the problem of vanishing gradient. Thats why, when the activation was set to linear, the accuracy was dropped because of vanishing gradient.\n",
    "\n",
    "    kernel size is set to 3X3 for Conv2D as this the smallest window on which the model performs best convolution. Even the number of filters are chosen to be small so that the model does not overfit the training set. The initial value is small but as the parameters increase, the number of filters change accordingly.\n",
    "\n",
    "    For max_pooling, the window size is 2X2 so that no information is lost as well as it is made sure that the edges are sharpened. For Dense, a fully connected network is designed, therfore the transition from given nodes to the output nodes shall be smooth and it shall be made sure that no information is lost on the way. Adding too many layers can also lead to overfitting the train data resulting in lower accuracy.\n",
    "\n",
    "    Usually the CNN initial layers work as edge detector and as we increase the number of layers more features start becoming prominent. Max pooling after CNN makes edges noticeable. Also dense layers help in retaining the properties of the data, therefore more the layers, more hidden features can be fetched.\n",
    "     d. Plots: the plots for model accuracy and losses have been plotted and explained above with the code.\n",
    "     e. Code evaluation: The code has been split into 90-10 ratio for comparision. The training data has been tested on various hyperparameters and best results ahve been calculated. The above calculated results are the best results, hence have been add to the report all the others had lower accuracy for all the parameters other than the ones stated. The accuracy obtained for training was maximum for the uncommented network and was equal to 97% on training with test accuracy as 90.72%. For other combinations, training accuracy was 97%and below."
   ]
  },
  {
   "cell_type": "code",
   "execution_count": null,
   "metadata": {},
   "outputs": [],
   "source": []
  }
 ],
 "metadata": {
  "accelerator": "GPU",
  "colab": {
   "collapsed_sections": [],
   "name": "asg3 part b.ipynb",
   "provenance": []
  },
  "kernelspec": {
   "display_name": "Python 3",
   "language": "python",
   "name": "python3"
  },
  "language_info": {
   "codemirror_mode": {
    "name": "ipython",
    "version": 3
   },
   "file_extension": ".py",
   "mimetype": "text/x-python",
   "name": "python",
   "nbconvert_exporter": "python",
   "pygments_lexer": "ipython3",
   "version": "3.7.4"
  }
 },
 "nbformat": 4,
 "nbformat_minor": 1
}
